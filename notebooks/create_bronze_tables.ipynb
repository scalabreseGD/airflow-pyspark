{
 "cells": [
  {
   "metadata": {},
   "cell_type": "markdown",
   "source": [
    "============================================================================\n",
    "# BRONZE LAYER - Raw Data Ingestion\n",
    "============================================================================\n"
   ],
   "id": "47cc278305cb5dce"
  },
  {
   "cell_type": "code",
   "id": "initial_id",
   "metadata": {
    "collapsed": true,
    "ExecuteTime": {
     "end_time": "2025-10-24T10:45:47.310862Z",
     "start_time": "2025-10-24T10:45:45.099387Z"
    }
   },
   "source": [
    "spark.sql(\"CREATE DATABASE IF NOT EXISTS bronze\")\n",
    "spark.sql(\"SHOW DATABASES\").show()"
   ],
   "outputs": [
    {
     "name": "stderr",
     "output_type": "stream",
     "text": [
      "25/10/24 10:45:45 WARN MetricsConfig: Cannot locate configuration: tried hadoop-metrics2-s3a-file-system.properties,hadoop-metrics2.properties\n"
     ]
    },
    {
     "name": "stdout",
     "output_type": "stream",
     "text": [
      "+---------+\n",
      "|namespace|\n",
      "+---------+\n",
      "|   bronze|\n",
      "|  default|\n",
      "|     gold|\n",
      "|   silver|\n",
      "+---------+\n",
      "\n"
     ]
    }
   ],
   "execution_count": 1
  },
  {
   "metadata": {
    "ExecuteTime": {
     "end_time": "2025-10-24T10:45:47.851083Z",
     "start_time": "2025-10-24T10:45:47.338671Z"
    }
   },
   "cell_type": "code",
   "source": [
    "transactions_row = \"\"\"\n",
    "                   CREATE TABLE IF NOT EXISTS bronze.transactions_raw\n",
    "                   (\n",
    "                       transaction_id\n",
    "                       STRING,\n",
    "                       customer_id\n",
    "                       STRING,\n",
    "                       transaction_timestamp\n",
    "                       STRING,\n",
    "                       channel\n",
    "                       STRING, -- online, mobile, in-store, marketplace\n",
    "                       store_id\n",
    "                       STRING,\n",
    "                       payment_method\n",
    "                       STRING,\n",
    "                       payment_status\n",
    "                       STRING,\n",
    "                       subtotal\n",
    "                       STRING,\n",
    "                       tax_amount\n",
    "                       STRING,\n",
    "                       shipping_cost\n",
    "                       STRING,\n",
    "                       discount_amount\n",
    "                       STRING,\n",
    "                       total_amount\n",
    "                       STRING,\n",
    "                       currency\n",
    "                       STRING,\n",
    "                       loyalty_points_earned\n",
    "                       STRING,\n",
    "                       loyalty_points_redeemed\n",
    "                       STRING,\n",
    "                       coupon_codes\n",
    "                       STRING, -- JSON array\n",
    "\n",
    "                       -- Metadata\n",
    "                       _source_system\n",
    "                       STRING,\n",
    "                       _ingestion_timestamp\n",
    "                       TIMESTAMP,\n",
    "                       _file_name\n",
    "                       STRING,\n",
    "                       _record_offset\n",
    "                       LONG\n",
    "                   )\n",
    "                       USING PARQUET\n",
    "                       PARTITIONED BY\n",
    "                   (\n",
    "                       _ingestion_timestamp\n",
    "                   )\n",
    "                       LOCATION 's3a://data/bronze/transactions_raw' \\\n",
    "                   \"\"\"\n",
    "spark.sql(transactions_row).show()"
   ],
   "id": "e11a5f5d1b10ed8c",
   "outputs": [
    {
     "name": "stderr",
     "output_type": "stream",
     "text": [
      "25/10/24 10:45:47 WARN SessionState: METASTORE_FILTER_HOOK will be ignored, since hive.security.authorization.manager is set to instance of HiveAuthorizerFactory.\n"
     ]
    },
    {
     "name": "stdout",
     "output_type": "stream",
     "text": [
      "++\n",
      "||\n",
      "++\n",
      "++\n",
      "\n"
     ]
    }
   ],
   "execution_count": 2
  },
  {
   "metadata": {
    "ExecuteTime": {
     "end_time": "2025-10-24T10:45:47.974902Z",
     "start_time": "2025-10-24T10:45:47.880477Z"
    }
   },
   "cell_type": "code",
   "source": [
    "transaction_items_raw = \"\"\"\n",
    "                        CREATE TABLE IF NOT EXISTS bronze.transaction_items_raw\n",
    "                        (\n",
    "                            transaction_item_id\n",
    "                            STRING,\n",
    "                            transaction_id\n",
    "                            STRING,\n",
    "                            product_id\n",
    "                            STRING,\n",
    "                            variant_id\n",
    "                            STRING,\n",
    "                            quantity\n",
    "                            STRING,\n",
    "                            unit_price\n",
    "                            STRING,\n",
    "                            discount_percentage\n",
    "                            STRING,\n",
    "                            tax_rate\n",
    "                            STRING,\n",
    "                            return_quantity\n",
    "                            STRING,\n",
    "                            return_reason\n",
    "                            STRING,\n",
    "                            fulfillment_status\n",
    "                            STRING,\n",
    "                            warehouse_id\n",
    "                            STRING,\n",
    "\n",
    "                            -- Metadata\n",
    "                            _source_system\n",
    "                            STRING,\n",
    "                            _ingestion_timestamp\n",
    "                            TIMESTAMP,\n",
    "                            _file_name\n",
    "                            STRING,\n",
    "                            _record_offset\n",
    "                            LONG\n",
    "                        )\n",
    "                            USING PARQUET\n",
    "                            PARTITIONED BY\n",
    "                        (\n",
    "                            _ingestion_timestamp\n",
    "                        )\n",
    "                            LOCATION 's3a://data/bronze/transaction_items_raw' \\\n",
    "                        \"\"\"\n",
    "spark.sql(transaction_items_raw).show()"
   ],
   "id": "3c9eb29fa8a2948",
   "outputs": [
    {
     "name": "stdout",
     "output_type": "stream",
     "text": [
      "++\n",
      "||\n",
      "++\n",
      "++\n",
      "\n"
     ]
    }
   ],
   "execution_count": 3
  },
  {
   "metadata": {
    "ExecuteTime": {
     "end_time": "2025-10-24T10:45:48.140032Z",
     "start_time": "2025-10-24T10:45:47.991267Z"
    }
   },
   "cell_type": "code",
   "source": [
    "subscriptions_raw = \"\"\"\n",
    "                    CREATE TABLE IF NOT EXISTS bronze.subscriptions_raw\n",
    "                    (\n",
    "                        subscription_id\n",
    "                        STRING,\n",
    "                        customer_id\n",
    "                        STRING,\n",
    "                        subscription_type\n",
    "                        STRING,\n",
    "                        plan_id\n",
    "                        STRING,\n",
    "                        start_date\n",
    "                        STRING,\n",
    "                        end_date\n",
    "                        STRING,\n",
    "                        status\n",
    "                        STRING, -- active, cancelled, paused, expired\n",
    "                        billing_frequency\n",
    "                        STRING, -- monthly, quarterly, annual\n",
    "                        subscription_amount\n",
    "                        STRING,\n",
    "                        next_billing_date\n",
    "                        STRING,\n",
    "                        auto_renewal\n",
    "                        STRING,\n",
    "                        cancellation_date\n",
    "                        STRING,\n",
    "                        cancellation_reason\n",
    "                        STRING,\n",
    "\n",
    "                        -- Metadata\n",
    "                        _source_system\n",
    "                        STRING,\n",
    "                        _ingestion_timestamp\n",
    "                        TIMESTAMP,\n",
    "                        _file_name\n",
    "                        STRING,\n",
    "                        _record_offset\n",
    "                        LONG\n",
    "                    )\n",
    "                        USING PARQUET\n",
    "                        PARTITIONED BY\n",
    "                    (\n",
    "                        _ingestion_timestamp\n",
    "                    )\n",
    "                        LOCATION 's3a://data/bronze/subscriptions_raw' \\\n",
    "                    \"\"\"\n",
    "spark.sql(subscriptions_raw).show()"
   ],
   "id": "db613c72e55e2d79",
   "outputs": [
    {
     "name": "stdout",
     "output_type": "stream",
     "text": [
      "++\n",
      "||\n",
      "++\n",
      "++\n",
      "\n"
     ]
    }
   ],
   "execution_count": 4
  },
  {
   "metadata": {
    "ExecuteTime": {
     "end_time": "2025-10-24T10:45:48.337064Z",
     "start_time": "2025-10-24T10:45:48.165461Z"
    }
   },
   "cell_type": "code",
   "source": [
    "customer_interactions_raw = \"\"\"\n",
    "                            CREATE TABLE IF NOT EXISTS bronze.customer_interactions_raw\n",
    "                            (\n",
    "                                interaction_id\n",
    "                                STRING,\n",
    "                                customer_id\n",
    "                                STRING,\n",
    "                                interaction_timestamp\n",
    "                                STRING,\n",
    "                                interaction_type\n",
    "                                STRING, -- support_ticket, chat, email, phone, social_media\n",
    "                                channel\n",
    "                                STRING,\n",
    "                                agent_id\n",
    "                                STRING,\n",
    "                                category\n",
    "                                STRING,\n",
    "                                subcategory\n",
    "                                STRING,\n",
    "                                sentiment_score\n",
    "                                STRING,\n",
    "                                resolution_time_minutes\n",
    "                                STRING,\n",
    "                                satisfaction_rating\n",
    "                                STRING,\n",
    "                                notes\n",
    "                                STRING,\n",
    "\n",
    "                                -- Metadata\n",
    "                                _source_system\n",
    "                                STRING,\n",
    "                                _ingestion_timestamp\n",
    "                                TIMESTAMP,\n",
    "                                _file_name\n",
    "                                STRING,\n",
    "                                _record_offset\n",
    "                                LONG\n",
    "                            )\n",
    "                                USING PARQUET\n",
    "                                PARTITIONED BY\n",
    "                            (\n",
    "                                _ingestion_timestamp\n",
    "                            )\n",
    "                                LOCATION 's3a://data/bronze/customer_interactions_raw' \\\n",
    "                            \"\"\"\n",
    "spark.sql(customer_interactions_raw).show()"
   ],
   "id": "2670ec56cba103bd",
   "outputs": [
    {
     "name": "stdout",
     "output_type": "stream",
     "text": [
      "++\n",
      "||\n",
      "++\n",
      "++\n",
      "\n"
     ]
    }
   ],
   "execution_count": 5
  },
  {
   "metadata": {
    "ExecuteTime": {
     "end_time": "2025-10-24T10:45:48.529023Z",
     "start_time": "2025-10-24T10:45:48.353965Z"
    }
   },
   "cell_type": "code",
   "source": [
    "product_catalog_raw = \"\"\"\n",
    "                      CREATE TABLE IF NOT EXISTS bronze.product_catalog_raw\n",
    "                      (\n",
    "                          product_id\n",
    "                          STRING,\n",
    "                          product_name\n",
    "                          STRING,\n",
    "                          category_level1\n",
    "                          STRING,\n",
    "                          category_level2\n",
    "                          STRING,\n",
    "                          category_level3\n",
    "                          STRING,\n",
    "                          brand\n",
    "                          STRING,\n",
    "                          manufacturer\n",
    "                          STRING,\n",
    "                          unit_cost\n",
    "                          STRING,\n",
    "                          list_price\n",
    "                          STRING,\n",
    "                          margin_percentage\n",
    "                          STRING,\n",
    "                          supplier_id\n",
    "                          STRING,\n",
    "                          lead_time_days\n",
    "                          STRING,\n",
    "                          weight_kg\n",
    "                          STRING,\n",
    "                          dimensions\n",
    "                          STRING, -- JSON\n",
    "                          tags\n",
    "                          STRING, -- JSON array\n",
    "                          launch_date\n",
    "                          STRING,\n",
    "                          discontinuation_date\n",
    "                          STRING,\n",
    "\n",
    "                          -- Metadata\n",
    "                          _source_system\n",
    "                          STRING,\n",
    "                          _ingestion_timestamp\n",
    "                          TIMESTAMP,\n",
    "                          _file_name\n",
    "                          STRING,\n",
    "                          _record_offset\n",
    "                          LONG\n",
    "                      )\n",
    "                          USING PARQUET\n",
    "                          PARTITIONED BY\n",
    "                      (\n",
    "                          _ingestion_timestamp\n",
    "                      )\n",
    "                          LOCATION 's3a://data/bronze/product_catalog_raw' \\\n",
    "                      \"\"\"\n",
    "spark.sql(product_catalog_raw).show()"
   ],
   "id": "c03a1348f2a1fe27",
   "outputs": [
    {
     "name": "stdout",
     "output_type": "stream",
     "text": [
      "++\n",
      "||\n",
      "++\n",
      "++\n",
      "\n"
     ]
    }
   ],
   "execution_count": 6
  },
  {
   "metadata": {
    "ExecuteTime": {
     "end_time": "2025-10-24T10:45:48.721094Z",
     "start_time": "2025-10-24T10:45:48.543458Z"
    }
   },
   "cell_type": "code",
   "source": [
    "inventory_snapshots_raw = \"\"\"\n",
    "                          CREATE TABLE IF NOT EXISTS bronze.inventory_snapshots_raw\n",
    "                          (\n",
    "                              snapshot_id\n",
    "                              STRING,\n",
    "                              snapshot_timestamp\n",
    "                              STRING,\n",
    "                              product_id\n",
    "                              STRING,\n",
    "                              variant_id\n",
    "                              STRING,\n",
    "                              warehouse_id\n",
    "                              STRING,\n",
    "                              quantity_on_hand\n",
    "                              STRING,\n",
    "                              quantity_reserved\n",
    "                              STRING,\n",
    "                              quantity_available\n",
    "                              STRING,\n",
    "                              reorder_point\n",
    "                              STRING,\n",
    "                              reorder_quantity\n",
    "                              STRING,\n",
    "\n",
    "                              -- Metadata\n",
    "                              _source_system\n",
    "                              STRING,\n",
    "                              _ingestion_timestamp\n",
    "                              TIMESTAMP,\n",
    "                              _file_name\n",
    "                              STRING,\n",
    "                              _record_offset\n",
    "                              LONG\n",
    "                          )\n",
    "                              USING PARQUET\n",
    "                              PARTITIONED BY\n",
    "                          (\n",
    "                              _ingestion_timestamp\n",
    "                          )\n",
    "                              LOCATION 's3a://data/bronze/inventory_snapshots_raw' \\\n",
    "                          \"\"\"\n",
    "spark.sql(inventory_snapshots_raw).show()"
   ],
   "id": "9aad55ebe164f1ec",
   "outputs": [
    {
     "name": "stdout",
     "output_type": "stream",
     "text": [
      "++\n",
      "||\n",
      "++\n",
      "++\n",
      "\n"
     ]
    }
   ],
   "execution_count": 7
  },
  {
   "metadata": {
    "ExecuteTime": {
     "end_time": "2025-10-24T10:45:48.850881Z",
     "start_time": "2025-10-24T10:45:48.739192Z"
    }
   },
   "cell_type": "code",
   "source": [
    "marketing_campaigns_raw = \"\"\"\n",
    "                          CREATE TABLE IF NOT EXISTS bronze.marketing_campaigns_raw\n",
    "                          (\n",
    "                              campaign_id\n",
    "                              STRING,\n",
    "                              campaign_name\n",
    "                              STRING,\n",
    "                              campaign_type\n",
    "                              STRING, -- email, social, display, search, affiliate\n",
    "                              channel\n",
    "                              STRING,\n",
    "                              start_date\n",
    "                              STRING,\n",
    "                              end_date\n",
    "                              STRING,\n",
    "                              budget\n",
    "                              STRING,\n",
    "                              target_audience\n",
    "                              STRING, -- JSON\n",
    "                              creative_id\n",
    "                              STRING,\n",
    "\n",
    "                              -- Metadata\n",
    "                              _source_system\n",
    "                              STRING,\n",
    "                              _ingestion_timestamp\n",
    "                              TIMESTAMP,\n",
    "                              _file_name\n",
    "                              STRING,\n",
    "                              _record_offset\n",
    "                              LONG\n",
    "                          )\n",
    "                              USING PARQUET\n",
    "                              PARTITIONED BY\n",
    "                          (\n",
    "                              _ingestion_timestamp\n",
    "                          )\n",
    "                              LOCATION 's3a://data/bronze/marketing_campaigns_raw' \\\n",
    "                          \"\"\"\n",
    "spark.sql(marketing_campaigns_raw).show()"
   ],
   "id": "19d58513c821f273",
   "outputs": [
    {
     "name": "stdout",
     "output_type": "stream",
     "text": [
      "++\n",
      "||\n",
      "++\n",
      "++\n",
      "\n"
     ]
    }
   ],
   "execution_count": 8
  },
  {
   "metadata": {
    "ExecuteTime": {
     "end_time": "2025-10-24T10:45:49.126801Z",
     "start_time": "2025-10-24T10:45:48.891018Z"
    }
   },
   "cell_type": "code",
   "source": [
    "campaign_events_raw = \"\"\"\n",
    "                      CREATE TABLE IF NOT EXISTS bronze.campaign_events_raw\n",
    "                      (\n",
    "                          event_id\n",
    "                          STRING,\n",
    "                          campaign_id\n",
    "                          STRING,\n",
    "                          customer_id\n",
    "                          STRING,\n",
    "                          event_timestamp\n",
    "                          STRING,\n",
    "                          event_type\n",
    "                          STRING, -- impression, click, conversion, unsubscribe\n",
    "                          device_type\n",
    "                          STRING,\n",
    "                          location\n",
    "                          STRING,\n",
    "                          attributed_revenue\n",
    "                          STRING,\n",
    "\n",
    "                          -- Metadata\n",
    "                          _source_system\n",
    "                          STRING,\n",
    "                          _ingestion_timestamp\n",
    "                          TIMESTAMP,\n",
    "                          _file_name\n",
    "                          STRING,\n",
    "                          _record_offset\n",
    "                          LONG\n",
    "                      )\n",
    "                          USING PARQUET\n",
    "                          PARTITIONED BY\n",
    "                      (\n",
    "                          _ingestion_timestamp\n",
    "                      )\n",
    "                          LOCATION 's3a://data/bronze/campaign_events_raw'; \\\n",
    "                      \"\"\"\n",
    "spark.sql(campaign_events_raw).show()"
   ],
   "id": "97d9be5b80208405",
   "outputs": [
    {
     "name": "stdout",
     "output_type": "stream",
     "text": [
      "++\n",
      "||\n",
      "++\n",
      "++\n",
      "\n"
     ]
    }
   ],
   "execution_count": 9
  },
  {
   "metadata": {
    "ExecuteTime": {
     "end_time": "2025-10-24T10:45:49.279833Z",
     "start_time": "2025-10-24T10:45:49.141406Z"
    }
   },
   "cell_type": "code",
   "source": "spark.sql(\"SHOW TABLES IN bronze\").show(truncate=False)",
   "id": "45251cd82d3b6fc1",
   "outputs": [
    {
     "name": "stdout",
     "output_type": "stream",
     "text": [
      "+---------+-------------------------+-----------+\n",
      "|namespace|tableName                |isTemporary|\n",
      "+---------+-------------------------+-----------+\n",
      "|bronze   |campaign_events_raw      |false      |\n",
      "|bronze   |customer_interactions_raw|false      |\n",
      "|bronze   |inventory_snapshots_raw  |false      |\n",
      "|bronze   |marketing_campaigns_raw  |false      |\n",
      "|bronze   |product_catalog_raw      |false      |\n",
      "|bronze   |subscriptions_raw        |false      |\n",
      "|bronze   |transaction_items_raw    |false      |\n",
      "|bronze   |transactions_raw         |false      |\n",
      "+---------+-------------------------+-----------+\n",
      "\n"
     ]
    }
   ],
   "execution_count": 10
  },
  {
   "metadata": {
    "ExecuteTime": {
     "end_time": "2025-10-24T11:13:10.028244Z",
     "start_time": "2025-10-24T11:13:03.418986Z"
    }
   },
   "cell_type": "code",
   "source": [
    "tables = [\n",
    "    'campaign_events_raw',\n",
    "    'customer_interactions_raw',\n",
    "    'inventory_snapshots_raw',\n",
    "    'marketing_campaigns_raw',\n",
    "    'product_catalog_raw',\n",
    "    'subscriptions_raw',\n",
    "    'transaction_items_raw',\n",
    "    'transactions_raw',\n",
    "]\n",
    "df = None\n",
    "for table in tables:\n",
    "    loop_df = spark.sql(\n",
    "    f\"\"\"\n",
    "    select '{table}' as tt,\n",
    "    count(*) as cnt\n",
    "    from bronze.{table}\n",
    "    \"\"\")\n",
    "    if df is None:\n",
    "        df = loop_df\n",
    "    else:\n",
    "        df = df.union(loop_df)\n",
    "df.show()"
   ],
   "id": "878a7cc6e520a04c",
   "outputs": [
    {
     "name": "stderr",
     "output_type": "stream",
     "text": [
      "25/10/24 11:13:03 WARN MetricsConfig: Cannot locate configuration: tried hadoop-metrics2-s3a-file-system.properties,hadoop-metrics2.properties\n",
      "                                                                                \r"
     ]
    },
    {
     "name": "stdout",
     "output_type": "stream",
     "text": [
      "+--------------------+---+\n",
      "|                  tt|cnt|\n",
      "+--------------------+---+\n",
      "| campaign_events_raw| 45|\n",
      "|customer_interact...| 20|\n",
      "|inventory_snapsho...| 40|\n",
      "|marketing_campaig...| 15|\n",
      "| product_catalog_raw| 20|\n",
      "|   subscriptions_raw| 20|\n",
      "|transaction_items...| 25|\n",
      "|    transactions_raw| 20|\n",
      "+--------------------+---+\n",
      "\n"
     ]
    }
   ],
   "execution_count": 1
  },
  {
   "metadata": {
    "ExecuteTime": {
     "end_time": "2025-10-24T10:45:51.299840Z",
     "start_time": "2025-10-24T10:45:51.298016Z"
    }
   },
   "cell_type": "code",
   "source": "",
   "id": "be93ad0b59372702",
   "outputs": [],
   "execution_count": null
  }
 ],
 "metadata": {
  "kernelspec": {
   "display_name": "Python 3",
   "language": "python",
   "name": "python3"
  },
  "language_info": {
   "codemirror_mode": {
    "name": "ipython",
    "version": 2
   },
   "file_extension": ".py",
   "mimetype": "text/x-python",
   "name": "python",
   "nbconvert_exporter": "python",
   "pygments_lexer": "ipython2",
   "version": "2.7.6"
  }
 },
 "nbformat": 4,
 "nbformat_minor": 5
}
