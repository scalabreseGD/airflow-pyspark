{
 "cells": [
  {
   "metadata": {},
   "cell_type": "markdown",
   "source": [
    "============================================================================\n",
    "# BRONZE LAYER - Raw Data Ingestion\n",
    "============================================================================\n"
   ],
   "id": "47cc278305cb5dce"
  },
  {
   "cell_type": "code",
   "id": "initial_id",
   "metadata": {
    "collapsed": true,
    "ExecuteTime": {
     "end_time": "2025-10-23T16:09:03.077201Z",
     "start_time": "2025-10-23T16:09:00.654427Z"
    }
   },
   "source": [
    "spark.sql(\"CREATE DATABASE IF NOT EXISTS bronze\")\n",
    "spark.sql(\"SHOW DATABASES\").show()"
   ],
   "outputs": [
    {
     "name": "stderr",
     "output_type": "stream",
     "text": [
      "25/10/23 16:09:00 WARN MetricsConfig: Cannot locate configuration: tried hadoop-metrics2-s3a-file-system.properties,hadoop-metrics2.properties\n"
     ]
    },
    {
     "name": "stdout",
     "output_type": "stream",
     "text": [
      "+---------+\n",
      "|namespace|\n",
      "+---------+\n",
      "|   bronze|\n",
      "|  default|\n",
      "|     gold|\n",
      "|   silver|\n",
      "+---------+\n",
      "\n"
     ]
    }
   ],
   "execution_count": 1
  },
  {
   "metadata": {
    "ExecuteTime": {
     "end_time": "2025-10-23T16:09:03.957397Z",
     "start_time": "2025-10-23T16:09:03.140882Z"
    }
   },
   "cell_type": "code",
   "source": [
    "transactions_row = \"\"\"\n",
    "CREATE TABLE IF NOT EXISTS bronze.transactions_raw (\n",
    "    transaction_id STRING,\n",
    "    customer_id STRING,\n",
    "    transaction_timestamp STRING,\n",
    "    channel STRING,  -- online, mobile, in-store, marketplace\n",
    "    store_id STRING,\n",
    "    payment_method STRING,\n",
    "    payment_status STRING,\n",
    "    subtotal STRING,\n",
    "    tax_amount STRING,\n",
    "    shipping_cost STRING,\n",
    "    discount_amount STRING,\n",
    "    total_amount STRING,\n",
    "    currency STRING,\n",
    "    loyalty_points_earned STRING,\n",
    "    loyalty_points_redeemed STRING,\n",
    "    coupon_codes STRING,  -- JSON array\n",
    "\n",
    "    -- Metadata\n",
    "    _source_system STRING,\n",
    "    _ingestion_timestamp TIMESTAMP,\n",
    "    _file_name STRING,\n",
    "    _record_offset LONG\n",
    ")\n",
    "USING PARQUET\n",
    "PARTITIONED BY (_ingestion_timestamp)\n",
    "LOCATION 's3a://data/bronze/transactions_raw'\n",
    "\"\"\"\n",
    "spark.sql(transactions_row).show()"
   ],
   "id": "e11a5f5d1b10ed8c",
   "outputs": [
    {
     "name": "stderr",
     "output_type": "stream",
     "text": [
      "25/10/23 16:09:03 WARN SessionState: METASTORE_FILTER_HOOK will be ignored, since hive.security.authorization.manager is set to instance of HiveAuthorizerFactory.\n"
     ]
    },
    {
     "name": "stdout",
     "output_type": "stream",
     "text": [
      "++\n",
      "||\n",
      "++\n",
      "++\n",
      "\n"
     ]
    }
   ],
   "execution_count": 2
  },
  {
   "metadata": {
    "ExecuteTime": {
     "end_time": "2025-10-23T16:09:04.278575Z",
     "start_time": "2025-10-23T16:09:04.027104Z"
    }
   },
   "cell_type": "code",
   "source": [
    "transaction_items_raw = \"\"\"\n",
    "CREATE TABLE IF NOT EXISTS bronze.transaction_items_raw (\n",
    "    transaction_item_id STRING,\n",
    "    transaction_id STRING,\n",
    "    product_id STRING,\n",
    "    variant_id STRING,\n",
    "    quantity STRING,\n",
    "    unit_price STRING,\n",
    "    discount_percentage STRING,\n",
    "    tax_rate STRING,\n",
    "    return_quantity STRING,\n",
    "    return_reason STRING,\n",
    "    fulfillment_status STRING,\n",
    "    warehouse_id STRING,\n",
    "\n",
    "    -- Metadata\n",
    "    _source_system STRING,\n",
    "    _ingestion_timestamp TIMESTAMP,\n",
    "    _file_name STRING,\n",
    "    _record_offset LONG\n",
    ")\n",
    "USING PARQUET\n",
    "PARTITIONED BY (_ingestion_timestamp)\n",
    "LOCATION 's3a://data/bronze/transaction_items_raw'\n",
    "\"\"\"\n",
    "spark.sql(transaction_items_raw).show()"
   ],
   "id": "3c9eb29fa8a2948",
   "outputs": [
    {
     "name": "stdout",
     "output_type": "stream",
     "text": [
      "++\n",
      "||\n",
      "++\n",
      "++\n",
      "\n"
     ]
    }
   ],
   "execution_count": 3
  },
  {
   "metadata": {
    "ExecuteTime": {
     "end_time": "2025-10-23T16:09:04.567162Z",
     "start_time": "2025-10-23T16:09:04.315496Z"
    }
   },
   "cell_type": "code",
   "source": [
    "subscriptions_raw = \"\"\"\n",
    "CREATE TABLE IF NOT EXISTS bronze.subscriptions_raw (\n",
    "    subscription_id STRING,\n",
    "    customer_id STRING,\n",
    "    subscription_type STRING,\n",
    "    plan_id STRING,\n",
    "    start_date STRING,\n",
    "    end_date STRING,\n",
    "    status STRING,  -- active, cancelled, paused, expired\n",
    "    billing_frequency STRING,  -- monthly, quarterly, annual\n",
    "    subscription_amount STRING,\n",
    "    next_billing_date STRING,\n",
    "    auto_renewal STRING,\n",
    "    cancellation_date STRING,\n",
    "    cancellation_reason STRING,\n",
    "\n",
    "    -- Metadata\n",
    "    _source_system STRING,\n",
    "    _ingestion_timestamp TIMESTAMP,\n",
    "    _file_name STRING,\n",
    "    _record_offset LONG\n",
    ")\n",
    "USING PARQUET\n",
    "PARTITIONED BY (_ingestion_timestamp)\n",
    "LOCATION 's3a://data/bronze/subscriptions_raw'\n",
    "\"\"\"\n",
    "spark.sql(subscriptions_raw).show()"
   ],
   "id": "db613c72e55e2d79",
   "outputs": [
    {
     "name": "stdout",
     "output_type": "stream",
     "text": [
      "++\n",
      "||\n",
      "++\n",
      "++\n",
      "\n"
     ]
    }
   ],
   "execution_count": 4
  },
  {
   "metadata": {
    "ExecuteTime": {
     "end_time": "2025-10-23T16:09:04.871232Z",
     "start_time": "2025-10-23T16:09:04.583619Z"
    }
   },
   "cell_type": "code",
   "source": [
    "customer_interactions_raw = \"\"\"\n",
    "CREATE TABLE IF NOT EXISTS bronze.customer_interactions_raw (\n",
    "    interaction_id STRING,\n",
    "    customer_id STRING,\n",
    "    interaction_timestamp STRING,\n",
    "    interaction_type STRING,  -- support_ticket, chat, email, phone, social_media\n",
    "    channel STRING,\n",
    "    agent_id STRING,\n",
    "    category STRING,\n",
    "    subcategory STRING,\n",
    "    sentiment_score STRING,\n",
    "    resolution_time_minutes STRING,\n",
    "    satisfaction_rating STRING,\n",
    "    notes STRING,\n",
    "\n",
    "    -- Metadata\n",
    "    _source_system STRING,\n",
    "    _ingestion_timestamp TIMESTAMP,\n",
    "    _file_name STRING,\n",
    "    _record_offset LONG\n",
    ")\n",
    "USING PARQUET\n",
    "PARTITIONED BY (_ingestion_timestamp)\n",
    "LOCATION 's3a://data/bronze/customer_interactions_raw'\n",
    "\"\"\"\n",
    "spark.sql(customer_interactions_raw).show()"
   ],
   "id": "2670ec56cba103bd",
   "outputs": [
    {
     "name": "stdout",
     "output_type": "stream",
     "text": [
      "++\n",
      "||\n",
      "++\n",
      "++\n",
      "\n"
     ]
    }
   ],
   "execution_count": 5
  },
  {
   "metadata": {
    "ExecuteTime": {
     "end_time": "2025-10-23T16:09:05.043262Z",
     "start_time": "2025-10-23T16:09:04.895511Z"
    }
   },
   "cell_type": "code",
   "source": [
    "product_catalog_raw = \"\"\"\n",
    "CREATE TABLE IF NOT EXISTS bronze.product_catalog_raw (\n",
    "    product_id STRING,\n",
    "    product_name STRING,\n",
    "    category_level1 STRING,\n",
    "    category_level2 STRING,\n",
    "    category_level3 STRING,\n",
    "    brand STRING,\n",
    "    manufacturer STRING,\n",
    "    unit_cost STRING,\n",
    "    list_price STRING,\n",
    "    margin_percentage STRING,\n",
    "    supplier_id STRING,\n",
    "    lead_time_days STRING,\n",
    "    weight_kg STRING,\n",
    "    dimensions STRING,  -- JSON\n",
    "    tags STRING,  -- JSON array\n",
    "    launch_date STRING,\n",
    "    discontinuation_date STRING,\n",
    "\n",
    "    -- Metadata\n",
    "    _source_system STRING,\n",
    "    _ingestion_timestamp TIMESTAMP,\n",
    "    _file_name STRING,\n",
    "    _record_offset LONG\n",
    ")\n",
    "USING PARQUET\n",
    "PARTITIONED BY (_ingestion_timestamp)\n",
    "LOCATION 's3a://data/bronze/product_catalog_raw'\n",
    "\"\"\"\n",
    "spark.sql(product_catalog_raw).show()"
   ],
   "id": "c03a1348f2a1fe27",
   "outputs": [
    {
     "name": "stdout",
     "output_type": "stream",
     "text": [
      "++\n",
      "||\n",
      "++\n",
      "++\n",
      "\n"
     ]
    }
   ],
   "execution_count": 6
  },
  {
   "metadata": {
    "ExecuteTime": {
     "end_time": "2025-10-23T16:09:05.151395Z",
     "start_time": "2025-10-23T16:09:05.062519Z"
    }
   },
   "cell_type": "code",
   "source": [
    "inventory_snapshots_raw = \"\"\"\n",
    "CREATE TABLE IF NOT EXISTS bronze.inventory_snapshots_raw (\n",
    "    snapshot_id STRING,\n",
    "    snapshot_timestamp STRING,\n",
    "    product_id STRING,\n",
    "    variant_id STRING,\n",
    "    warehouse_id STRING,\n",
    "    quantity_on_hand STRING,\n",
    "    quantity_reserved STRING,\n",
    "    quantity_available STRING,\n",
    "    reorder_point STRING,\n",
    "    reorder_quantity STRING,\n",
    "\n",
    "    -- Metadata\n",
    "    _source_system STRING,\n",
    "    _ingestion_timestamp TIMESTAMP,\n",
    "    _file_name STRING,\n",
    "    _record_offset LONG\n",
    ")\n",
    "USING PARQUET\n",
    "PARTITIONED BY (_ingestion_timestamp)\n",
    "LOCATION 's3a://data/bronze/inventory_snapshots_raw'\n",
    "\"\"\"\n",
    "spark.sql(inventory_snapshots_raw).show()"
   ],
   "id": "9aad55ebe164f1ec",
   "outputs": [
    {
     "name": "stdout",
     "output_type": "stream",
     "text": [
      "++\n",
      "||\n",
      "++\n",
      "++\n",
      "\n"
     ]
    }
   ],
   "execution_count": 7
  },
  {
   "metadata": {
    "ExecuteTime": {
     "end_time": "2025-10-23T16:09:05.274183Z",
     "start_time": "2025-10-23T16:09:05.171565Z"
    }
   },
   "cell_type": "code",
   "source": [
    "marketing_campaigns_raw = \"\"\"\n",
    "CREATE TABLE IF NOT EXISTS bronze.marketing_campaigns_raw (\n",
    "    campaign_id STRING,\n",
    "    campaign_name STRING,\n",
    "    campaign_type STRING,  -- email, social, display, search, affiliate\n",
    "    channel STRING,\n",
    "    start_date STRING,\n",
    "    end_date STRING,\n",
    "    budget STRING,\n",
    "    target_audience STRING,  -- JSON\n",
    "    creative_id STRING,\n",
    "\n",
    "    -- Metadata\n",
    "    _source_system STRING,\n",
    "    _ingestion_timestamp TIMESTAMP,\n",
    "    _file_name STRING,\n",
    "    _record_offset LONG\n",
    ")\n",
    "USING PARQUET\n",
    "PARTITIONED BY (_ingestion_timestamp)\n",
    "LOCATION 's3a://data/bronze/marketing_campaigns_raw'\n",
    "\"\"\"\n",
    "spark.sql(marketing_campaigns_raw).show()"
   ],
   "id": "19d58513c821f273",
   "outputs": [
    {
     "name": "stdout",
     "output_type": "stream",
     "text": [
      "++\n",
      "||\n",
      "++\n",
      "++\n",
      "\n"
     ]
    }
   ],
   "execution_count": 8
  },
  {
   "metadata": {
    "ExecuteTime": {
     "end_time": "2025-10-23T16:09:05.516396Z",
     "start_time": "2025-10-23T16:09:05.290595Z"
    }
   },
   "cell_type": "code",
   "source": [
    "campaign_events_raw = \"\"\"\n",
    "CREATE TABLE IF NOT EXISTS bronze.campaign_events_raw (\n",
    "    event_id STRING,\n",
    "    campaign_id STRING,\n",
    "    customer_id STRING,\n",
    "    event_timestamp STRING,\n",
    "    event_type STRING,  -- impression, click, conversion, unsubscribe\n",
    "    device_type STRING,\n",
    "    location STRING,\n",
    "    attributed_revenue STRING,\n",
    "\n",
    "    -- Metadata\n",
    "    _source_system STRING,\n",
    "    _ingestion_timestamp TIMESTAMP,\n",
    "    _file_name STRING,\n",
    "    _record_offset LONG\n",
    ")\n",
    "USING PARQUET\n",
    "PARTITIONED BY (_ingestion_timestamp)\n",
    "LOCATION 's3a://data/bronze/campaign_events_raw';\n",
    "\"\"\"\n",
    "spark.sql(campaign_events_raw).show()"
   ],
   "id": "97d9be5b80208405",
   "outputs": [
    {
     "name": "stdout",
     "output_type": "stream",
     "text": [
      "++\n",
      "||\n",
      "++\n",
      "++\n",
      "\n"
     ]
    }
   ],
   "execution_count": 9
  },
  {
   "metadata": {
    "ExecuteTime": {
     "end_time": "2025-10-23T16:09:05.709203Z",
     "start_time": "2025-10-23T16:09:05.536594Z"
    }
   },
   "cell_type": "code",
   "source": "spark.sql(\"SHOW TABLES IN bronze\").show()",
   "id": "45251cd82d3b6fc1",
   "outputs": [
    {
     "name": "stdout",
     "output_type": "stream",
     "text": [
      "+---------+--------------------+-----------+\n",
      "|namespace|           tableName|isTemporary|\n",
      "+---------+--------------------+-----------+\n",
      "|   bronze| campaign_events_raw|      false|\n",
      "|   bronze|customer_interact...|      false|\n",
      "|   bronze|inventory_snapsho...|      false|\n",
      "|   bronze|marketing_campaig...|      false|\n",
      "|   bronze| product_catalog_raw|      false|\n",
      "|   bronze|   subscriptions_raw|      false|\n",
      "|   bronze|transaction_items...|      false|\n",
      "|   bronze|    transactions_raw|      false|\n",
      "+---------+--------------------+-----------+\n",
      "\n"
     ]
    }
   ],
   "execution_count": 10
  },
  {
   "metadata": {
    "ExecuteTime": {
     "end_time": "2025-10-23T16:09:05.745478Z",
     "start_time": "2025-10-23T16:09:05.743009Z"
    }
   },
   "cell_type": "code",
   "source": "",
   "id": "878a7cc6e520a04c",
   "outputs": [],
   "execution_count": null
  }
 ],
 "metadata": {
  "kernelspec": {
   "display_name": "Python 3",
   "language": "python",
   "name": "python3"
  },
  "language_info": {
   "codemirror_mode": {
    "name": "ipython",
    "version": 2
   },
   "file_extension": ".py",
   "mimetype": "text/x-python",
   "name": "python",
   "nbconvert_exporter": "python",
   "pygments_lexer": "ipython2",
   "version": "2.7.6"
  }
 },
 "nbformat": 4,
 "nbformat_minor": 5
}
