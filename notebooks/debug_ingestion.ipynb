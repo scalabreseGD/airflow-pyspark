{
 "cells": [
  {
   "cell_type": "code",
   "id": "initial_id",
   "metadata": {
    "collapsed": true,
    "ExecuteTime": {
     "end_time": "2025-10-24T10:43:00.831748Z",
     "start_time": "2025-10-24T10:42:59.862913Z"
    }
   },
   "source": [
    "from pyspark.shell import spark\n",
    "\n",
    "table_config = {\n",
    "    \"name\": \"marketing_campaigns_raw\",\n",
    "    \"csv_file\": \"bronze_marketing_campaigns_raw.csv\",\n",
    "    \"database\": \"bronze\"\n",
    "}"
   ],
   "outputs": [
    {
     "name": "stderr",
     "output_type": "stream",
     "text": [
      "25/10/24 10:43:00 WARN MetricsConfig: Cannot locate configuration: tried hadoop-metrics2-s3a-file-system.properties,hadoop-metrics2.properties\n"
     ]
    },
    {
     "name": "stdout",
     "output_type": "stream",
     "text": [
      "Welcome to\n",
      "      ____              __\n",
      "     / __/__  ___ _____/ /__\n",
      "    _\\ \\/ _ \\/ _ `/ __/  '_/\n",
      "   /__ / .__/\\_,_/_/ /_/\\_\\   version 3.5.3\n",
      "      /_/\n",
      "\n",
      "Using Python version 3.11.6 (main, Oct  3 2023 11:57:02)\n",
      "Spark context Web UI available at http://cfc35822a456:4040\n",
      "Spark context available as 'sc' (master = spark://spark-master:7077, app id = app-20251024104258-0007).\n",
      "SparkSession available as 'spark'.\n"
     ]
    }
   ],
   "execution_count": 1
  },
  {
   "metadata": {
    "ExecuteTime": {
     "end_time": "2025-10-24T10:43:08.934939Z",
     "start_time": "2025-10-24T10:43:08.931487Z"
    }
   },
   "cell_type": "code",
   "source": [
    "table_name = table_config[\"name\"]\n",
    "csv_file = table_config[\"csv_file\"]\n",
    "database = table_config[\"database\"]\n",
    "full_table_name = f\"{database}.{table_name}\"\n",
    "print(csv_file)\n",
    "print(full_table_name)"
   ],
   "id": "5aad71da2c0e8687",
   "outputs": [
    {
     "name": "stdout",
     "output_type": "stream",
     "text": [
      "bronze_marketing_campaigns_raw.csv\n",
      "bronze.marketing_campaigns_raw\n"
     ]
    }
   ],
   "execution_count": 2
  },
  {
   "metadata": {
    "ExecuteTime": {
     "end_time": "2025-10-24T10:43:35.854361Z",
     "start_time": "2025-10-24T10:43:33.245485Z"
    }
   },
   "cell_type": "code",
   "source": [
    "input_path = f\"s3a://data/source_data/{csv_file}\"\n",
    "df = spark.read.csv(path=input_path,\n",
    "                    sep='|',\n",
    "                    header=True,\n",
    "                    inferSchema=False, quote='\"')"
   ],
   "id": "aa8b29aebe9a7a7f",
   "outputs": [
    {
     "name": "stderr",
     "output_type": "stream",
     "text": [
      "                                                                                \r"
     ]
    }
   ],
   "execution_count": 3
  },
  {
   "metadata": {
    "ExecuteTime": {
     "end_time": "2025-10-24T10:43:36.956362Z",
     "start_time": "2025-10-24T10:43:36.688837Z"
    }
   },
   "cell_type": "code",
   "source": "df.show(truncate=False)",
   "id": "75310d1bad94be74",
   "outputs": [
    {
     "name": "stdout",
     "output_type": "stream",
     "text": [
      "+-----------+-----------------------------+-------------+----------+----------+----------+--------+---------------------------------------------------------------------------------------+-----------+------------------+--------------------+-----------------------+--------------+\n",
      "|campaign_id|campaign_name                |campaign_type|channel   |start_date|end_date  |budget  |target_audience                                                                        |creative_id|_source_system    |_ingestion_timestamp|_file_name             |_record_offset|\n",
      "+-----------+-----------------------------+-------------+----------+----------+----------+--------+---------------------------------------------------------------------------------------+-----------+------------------+--------------------+-----------------------+--------------+\n",
      "|CAMP001    |Fall Sale 2025               |email        |email     |2025-10-01|2025-10-31|15000.00|{\"age_range\":\"25-45\",\"interests\":[\"fashion\",\"home-decor\"],\"segment\":\"active-customers\"}|CRE1001    |marketing_platform|2025-10-01 08:00:00 |campaigns_20251001.json|0             |\n",
      "|CAMP002    |Black Friday Preview         |social       |facebook  |2025-10-15|2025-11-15|25000.00|{\"age_range\":\"18-65\",\"interests\":[\"shopping\",\"deals\"],\"segment\":\"all-users\"}           |CRE1002    |marketing_platform|2025-10-15 08:00:00 |campaigns_20251015.json|0             |\n",
      "|CAMP003    |Tech Week Promotion          |display      |google_ads|2025-10-10|2025-10-24|18000.00|{\"age_range\":\"20-50\",\"interests\":[\"technology\",\"gadgets\"],\"segment\":\"tech-enthusiasts\"}|CRE1003    |marketing_platform|2025-10-10 08:00:00 |campaigns_20251010.json|0             |\n",
      "|CAMP004    |Fitness October              |email        |email     |2025-10-01|2025-10-31|8000.00 |{\"age_range\":\"22-55\",\"interests\":[\"fitness\",\"health\"],\"segment\":\"fitness-buyers\"}      |CRE1004    |marketing_platform|2025-10-01 08:00:00 |campaigns_20251001.json|1             |\n",
      "|CAMP005    |Instagram Stories Flash Sale |social       |instagram |2025-10-18|2025-10-20|5000.00 |{\"age_range\":\"18-35\",\"interests\":[\"fashion\",\"lifestyle\"],\"segment\":\"mobile-users\"}     |CRE1005    |marketing_platform|2025-10-18 08:00:00 |campaigns_20251018.json|0             |\n",
      "|CAMP006    |Holiday Gift Guide           |search       |google_ads|2025-10-20|2025-12-25|35000.00|{\"age_range\":\"25-65\",\"interests\":[\"gifts\",\"shopping\"],\"segment\":\"gift-shoppers\"}       |CRE1006    |marketing_platform|2025-10-20 08:00:00 |campaigns_20251020.json|0             |\n",
      "|CAMP007    |VIP Customer Exclusive       |email        |email     |2025-10-15|2025-10-22|3000.00 |{\"age_range\":\"30-60\",\"segment\":\"vip-customers\",\"min_lifetime_value\":1000}              |CRE1007    |marketing_platform|2025-10-15 08:00:00 |campaigns_20251015.json|1             |\n",
      "|CAMP008    |YouTube Product Reviews      |social       |youtube   |2025-10-01|2025-10-31|12000.00|{\"age_range\":\"18-45\",\"interests\":[\"product-reviews\",\"tech\"],\"segment\":\"video-viewers\"} |CRE1008    |marketing_platform|2025-10-01 08:00:00 |campaigns_20251001.json|2             |\n",
      "|CAMP009    |Retargeting Cart Abandoners  |display      |criteo    |2025-10-01|2025-10-31|10000.00|{\"segment\":\"cart-abandoners\",\"days_since_abandonment\":\"1-7\"}                           |CRE1009    |marketing_platform|2025-10-01 08:00:00 |campaigns_20251001.json|3             |\n",
      "|CAMP010    |Affiliate Partnership October|affiliate    |impact    |2025-10-01|2025-10-31|20000.00|{\"affiliate_tier\":\"premium\",\"commission_rate\":0.10}                                    |CRE1010    |marketing_platform|2025-10-01 08:00:00 |campaigns_20251001.json|4             |\n",
      "|CAMP011    |TikTok Trending Challenge    |social       |tiktok    |2025-10-12|2025-10-26|8500.00 |{\"age_range\":\"16-30\",\"interests\":[\"viral-content\",\"challenges\"],\"segment\":\"gen-z\"}     |CRE1011    |marketing_platform|2025-10-12 08:00:00 |campaigns_20251012.json|0             |\n",
      "|CAMP012    |Customer Winback Campaign    |email        |email     |2025-10-05|2025-10-31|6000.00 |{\"segment\":\"churned-customers\",\"last_purchase_days\":\"90-365\"}                          |CRE1012    |marketing_platform|2025-10-05 08:00:00 |campaigns_20251005.json|0             |\n",
      "|CAMP013    |LinkedIn B2B Tech            |social       |linkedin  |2025-10-01|2025-11-30|15000.00|{\"job_titles\":[\"CTO\",\"IT-Manager\",\"Developer\"],\"company_size\":\"100+\"}                  |CRE1013    |marketing_platform|2025-10-01 08:00:00 |campaigns_20251001.json|5             |\n",
      "|CAMP014    |Mobile App Install Campaign  |display      |facebook  |2025-10-08|2025-10-31|9000.00 |{\"age_range\":\"18-45\",\"device\":\"mobile\",\"segment\":\"non-app-users\"}                      |CRE1014    |marketing_platform|2025-10-08 08:00:00 |campaigns_20251008.json|0             |\n",
      "|CAMP015    |Subscription Upsell          |email        |email     |2025-10-10|2025-10-31|4000.00 |{\"segment\":\"basic-subscribers\",\"tenure_months\":\"3+\"}                                   |CRE1015    |marketing_platform|2025-10-10 08:00:00 |campaigns_20251010.json|1             |\n",
      "+-----------+-----------------------------+-------------+----------+----------+----------+--------+---------------------------------------------------------------------------------------+-----------+------------------+--------------------+-----------------------+--------------+\n",
      "\n"
     ]
    }
   ],
   "execution_count": 4
  },
  {
   "metadata": {
    "ExecuteTime": {
     "end_time": "2025-10-24T10:43:45.219497Z",
     "start_time": "2025-10-24T10:43:45.139035Z"
    }
   },
   "cell_type": "code",
   "source": [
    "from pyspark.sql.functions import to_timestamp, col\n",
    "from pyspark.sql import DataFrame\n",
    "\n",
    "df: DataFrame = df.withColumn(\"_ingestion_timestamp_casted\",\n",
    "                              to_timestamp(col(\"_ingestion_timestamp\"), \"yyyy-MM-dd HH:mm:ss\"))\n",
    "df: DataFrame = df.withColumn('_record_offset_casted', df['_record_offset'].astype('bigint'))\n",
    "df = df.drop('_record_offset').withColumnRenamed('_record_offset_casted', '_record_offset') \\\n",
    "    .drop('_ingestion_timestamp').withColumnRenamed('_ingestion_timestamp_casted', '_ingestion_timestamp')"
   ],
   "id": "869440ccf9cc038e",
   "outputs": [],
   "execution_count": 5
  },
  {
   "metadata": {
    "ExecuteTime": {
     "end_time": "2025-10-24T10:43:46.324656Z",
     "start_time": "2025-10-24T10:43:46.316352Z"
    }
   },
   "cell_type": "code",
   "source": "df.printSchema()",
   "id": "567983f0a823d67f",
   "outputs": [
    {
     "name": "stdout",
     "output_type": "stream",
     "text": [
      "root\n",
      " |-- campaign_id: string (nullable = true)\n",
      " |-- campaign_name: string (nullable = true)\n",
      " |-- campaign_type: string (nullable = true)\n",
      " |-- channel: string (nullable = true)\n",
      " |-- start_date: string (nullable = true)\n",
      " |-- end_date: string (nullable = true)\n",
      " |-- budget: string (nullable = true)\n",
      " |-- target_audience: string (nullable = true)\n",
      " |-- creative_id: string (nullable = true)\n",
      " |-- _source_system: string (nullable = true)\n",
      " |-- _file_name: string (nullable = true)\n",
      " |-- _ingestion_timestamp: timestamp (nullable = true)\n",
      " |-- _record_offset: long (nullable = true)\n",
      "\n"
     ]
    }
   ],
   "execution_count": 6
  },
  {
   "metadata": {
    "ExecuteTime": {
     "end_time": "2025-10-24T10:43:57.788446Z",
     "start_time": "2025-10-24T10:43:57.381432Z"
    }
   },
   "cell_type": "code",
   "source": "cols = [col.col_name for col in spark.sql(f\"SHOW COLUMNS IN {full_table_name}\").select('col_name').collect()]",
   "id": "7a8ad68846bac2f4",
   "outputs": [],
   "execution_count": 7
  },
  {
   "metadata": {
    "ExecuteTime": {
     "end_time": "2025-10-24T10:43:58.478599Z",
     "start_time": "2025-10-24T10:43:58.474156Z"
    }
   },
   "cell_type": "code",
   "source": "print(cols)",
   "id": "26a5125f8292634c",
   "outputs": [
    {
     "name": "stdout",
     "output_type": "stream",
     "text": [
      "['campaign_id', 'campaign_name', 'campaign_type', 'channel', 'start_date', 'end_date', 'budget', 'target_audience', 'creative_id', '_source_system', '_file_name', '_record_offset', '_ingestion_timestamp']\n"
     ]
    }
   ],
   "execution_count": 8
  },
  {
   "metadata": {
    "ExecuteTime": {
     "end_time": "2025-10-24T10:44:01.495632Z",
     "start_time": "2025-10-24T10:44:01.462868Z"
    }
   },
   "cell_type": "code",
   "source": "df = df.select([df[col] for col in cols])",
   "id": "a417a0da2469780a",
   "outputs": [],
   "execution_count": 9
  },
  {
   "metadata": {
    "ExecuteTime": {
     "end_time": "2025-10-24T10:44:02.844415Z",
     "start_time": "2025-10-24T10:44:02.837092Z"
    }
   },
   "cell_type": "code",
   "source": "df.printSchema()",
   "id": "d617cc261599cba4",
   "outputs": [
    {
     "name": "stdout",
     "output_type": "stream",
     "text": [
      "root\n",
      " |-- campaign_id: string (nullable = true)\n",
      " |-- campaign_name: string (nullable = true)\n",
      " |-- campaign_type: string (nullable = true)\n",
      " |-- channel: string (nullable = true)\n",
      " |-- start_date: string (nullable = true)\n",
      " |-- end_date: string (nullable = true)\n",
      " |-- budget: string (nullable = true)\n",
      " |-- target_audience: string (nullable = true)\n",
      " |-- creative_id: string (nullable = true)\n",
      " |-- _source_system: string (nullable = true)\n",
      " |-- _file_name: string (nullable = true)\n",
      " |-- _record_offset: long (nullable = true)\n",
      " |-- _ingestion_timestamp: timestamp (nullable = true)\n",
      "\n"
     ]
    }
   ],
   "execution_count": 10
  },
  {
   "metadata": {
    "ExecuteTime": {
     "end_time": "2025-10-24T10:44:08.035547Z",
     "start_time": "2025-10-24T10:44:04.551228Z"
    }
   },
   "cell_type": "code",
   "source": "df.write.insertInto(full_table_name)",
   "id": "bc27865dddceee36",
   "outputs": [
    {
     "name": "stderr",
     "output_type": "stream",
     "text": [
      "25/10/24 10:44:04 WARN SessionState: METASTORE_FILTER_HOOK will be ignored, since hive.security.authorization.manager is set to instance of HiveAuthorizerFactory.\n",
      "25/10/24 10:44:04 WARN RetryingMetaStoreClient: MetaStoreClient lost connection. Attempting to reconnect (1 of 1) after 1s. listPartitionsWithAuthInfo\n",
      "org.apache.thrift.transport.TTransportException: Cannot write to null outputStream\n",
      "\tat org.apache.thrift.transport.TIOStreamTransport.write(TIOStreamTransport.java:142)\n",
      "\tat org.apache.thrift.protocol.TBinaryProtocol.writeI32(TBinaryProtocol.java:185)\n",
      "\tat org.apache.thrift.protocol.TBinaryProtocol.writeMessageBegin(TBinaryProtocol.java:116)\n",
      "\tat org.apache.thrift.TServiceClient.sendBase(TServiceClient.java:70)\n",
      "\tat org.apache.thrift.TServiceClient.sendBase(TServiceClient.java:62)\n",
      "\tat org.apache.hadoop.hive.metastore.api.ThriftHiveMetastore$Client.send_get_partitions_ps_with_auth(ThriftHiveMetastore.java:2562)\n",
      "\tat org.apache.hadoop.hive.metastore.api.ThriftHiveMetastore$Client.get_partitions_ps_with_auth(ThriftHiveMetastore.java:2549)\n",
      "\tat org.apache.hadoop.hive.metastore.HiveMetaStoreClient.listPartitionsWithAuthInfo(HiveMetaStoreClient.java:1207)\n",
      "\tat java.base/jdk.internal.reflect.NativeMethodAccessorImpl.invoke0(Native Method)\n",
      "\tat java.base/jdk.internal.reflect.NativeMethodAccessorImpl.invoke(NativeMethodAccessorImpl.java:62)\n",
      "\tat java.base/jdk.internal.reflect.DelegatingMethodAccessorImpl.invoke(DelegatingMethodAccessorImpl.java:43)\n",
      "\tat java.base/java.lang.reflect.Method.invoke(Method.java:566)\n",
      "\tat org.apache.hadoop.hive.metastore.RetryingMetaStoreClient.invoke(RetryingMetaStoreClient.java:173)\n",
      "\tat com.sun.proxy.$Proxy44.listPartitionsWithAuthInfo(Unknown Source)\n",
      "\tat java.base/jdk.internal.reflect.NativeMethodAccessorImpl.invoke0(Native Method)\n",
      "\tat java.base/jdk.internal.reflect.NativeMethodAccessorImpl.invoke(NativeMethodAccessorImpl.java:62)\n",
      "\tat java.base/jdk.internal.reflect.DelegatingMethodAccessorImpl.invoke(DelegatingMethodAccessorImpl.java:43)\n",
      "\tat java.base/java.lang.reflect.Method.invoke(Method.java:566)\n",
      "\tat org.apache.hadoop.hive.metastore.HiveMetaStoreClient$SynchronizedHandler.invoke(HiveMetaStoreClient.java:2327)\n",
      "\tat com.sun.proxy.$Proxy44.listPartitionsWithAuthInfo(Unknown Source)\n",
      "\tat org.apache.hadoop.hive.ql.metadata.Hive.getPartitions(Hive.java:2562)\n",
      "\tat org.apache.hadoop.hive.ql.metadata.Hive.getPartitions(Hive.java:2588)\n",
      "\tat org.apache.spark.sql.hive.client.Shim_v0_12.getPartitions(HiveShim.scala:660)\n",
      "\tat org.apache.spark.sql.hive.client.HiveClientImpl.$anonfun$getPartitions$3(HiveClientImpl.scala:802)\n",
      "\tat org.apache.spark.sql.hive.client.HiveClientImpl.$anonfun$withHiveState$1(HiveClientImpl.scala:303)\n",
      "\tat org.apache.spark.sql.hive.client.HiveClientImpl.liftedTree1$1(HiveClientImpl.scala:234)\n",
      "\tat org.apache.spark.sql.hive.client.HiveClientImpl.retryLocked(HiveClientImpl.scala:233)\n",
      "\tat org.apache.spark.sql.hive.client.HiveClientImpl.withHiveState(HiveClientImpl.scala:283)\n",
      "\tat org.apache.spark.sql.hive.client.HiveClientImpl.getPartitions(HiveClientImpl.scala:795)\n",
      "\tat org.apache.spark.sql.hive.client.HiveClientImpl.getPartitions(HiveClientImpl.scala:790)\n",
      "\tat org.apache.spark.sql.hive.HiveExternalCatalog.$anonfun$listPartitions$1(HiveExternalCatalog.scala:1281)\n",
      "\tat org.apache.spark.sql.hive.HiveExternalCatalog.withClient(HiveExternalCatalog.scala:99)\n",
      "\tat org.apache.spark.sql.hive.HiveExternalCatalog.listPartitions(HiveExternalCatalog.scala:1277)\n",
      "\tat org.apache.spark.sql.catalyst.catalog.ExternalCatalogWithListener.listPartitions(ExternalCatalogWithListener.scala:254)\n",
      "\tat org.apache.spark.sql.catalyst.catalog.SessionCatalog.listPartitions(SessionCatalog.scala:1294)\n",
      "\tat org.apache.spark.sql.execution.datasources.InsertIntoHadoopFsRelationCommand.run(InsertIntoHadoopFsRelationCommand.scala:104)\n",
      "\tat org.apache.spark.sql.execution.command.DataWritingCommandExec.sideEffectResult$lzycompute(commands.scala:113)\n",
      "\tat org.apache.spark.sql.execution.command.DataWritingCommandExec.sideEffectResult(commands.scala:111)\n",
      "\tat org.apache.spark.sql.execution.command.DataWritingCommandExec.executeCollect(commands.scala:125)\n",
      "\tat org.apache.spark.sql.execution.QueryExecution$$anonfun$eagerlyExecuteCommands$1.$anonfun$applyOrElse$1(QueryExecution.scala:107)\n",
      "\tat org.apache.spark.sql.execution.SQLExecution$.$anonfun$withNewExecutionId$6(SQLExecution.scala:125)\n",
      "\tat org.apache.spark.sql.execution.SQLExecution$.withSQLConfPropagated(SQLExecution.scala:201)\n",
      "\tat org.apache.spark.sql.execution.SQLExecution$.$anonfun$withNewExecutionId$1(SQLExecution.scala:108)\n",
      "\tat org.apache.spark.sql.SparkSession.withActive(SparkSession.scala:900)\n",
      "\tat org.apache.spark.sql.execution.SQLExecution$.withNewExecutionId(SQLExecution.scala:66)\n",
      "\tat org.apache.spark.sql.execution.QueryExecution$$anonfun$eagerlyExecuteCommands$1.applyOrElse(QueryExecution.scala:107)\n",
      "\tat org.apache.spark.sql.execution.QueryExecution$$anonfun$eagerlyExecuteCommands$1.applyOrElse(QueryExecution.scala:98)\n",
      "\tat org.apache.spark.sql.catalyst.trees.TreeNode.$anonfun$transformDownWithPruning$1(TreeNode.scala:461)\n",
      "\tat org.apache.spark.sql.catalyst.trees.CurrentOrigin$.withOrigin(origin.scala:76)\n",
      "\tat org.apache.spark.sql.catalyst.trees.TreeNode.transformDownWithPruning(TreeNode.scala:461)\n",
      "\tat org.apache.spark.sql.catalyst.plans.logical.LogicalPlan.org$apache$spark$sql$catalyst$plans$logical$AnalysisHelper$$super$transformDownWithPruning(LogicalPlan.scala:32)\n",
      "\tat org.apache.spark.sql.catalyst.plans.logical.AnalysisHelper.transformDownWithPruning(AnalysisHelper.scala:267)\n",
      "\tat org.apache.spark.sql.catalyst.plans.logical.AnalysisHelper.transformDownWithPruning$(AnalysisHelper.scala:263)\n",
      "\tat org.apache.spark.sql.catalyst.plans.logical.LogicalPlan.transformDownWithPruning(LogicalPlan.scala:32)\n",
      "\tat org.apache.spark.sql.catalyst.plans.logical.LogicalPlan.transformDownWithPruning(LogicalPlan.scala:32)\n",
      "\tat org.apache.spark.sql.catalyst.trees.TreeNode.transformDown(TreeNode.scala:437)\n",
      "\tat org.apache.spark.sql.execution.QueryExecution.eagerlyExecuteCommands(QueryExecution.scala:98)\n",
      "\tat org.apache.spark.sql.execution.QueryExecution.commandExecuted$lzycompute(QueryExecution.scala:85)\n",
      "\tat org.apache.spark.sql.execution.QueryExecution.commandExecuted(QueryExecution.scala:83)\n",
      "\tat org.apache.spark.sql.execution.QueryExecution.assertCommandExecuted(QueryExecution.scala:142)\n",
      "\tat org.apache.spark.sql.DataFrameWriter.runCommand(DataFrameWriter.scala:869)\n",
      "\tat org.apache.spark.sql.DataFrameWriter.insertInto(DataFrameWriter.scala:484)\n",
      "\tat org.apache.spark.sql.DataFrameWriter.insertInto(DataFrameWriter.scala:445)\n",
      "\tat java.base/jdk.internal.reflect.NativeMethodAccessorImpl.invoke0(Native Method)\n",
      "\tat java.base/jdk.internal.reflect.NativeMethodAccessorImpl.invoke(NativeMethodAccessorImpl.java:62)\n",
      "\tat java.base/jdk.internal.reflect.DelegatingMethodAccessorImpl.invoke(DelegatingMethodAccessorImpl.java:43)\n",
      "\tat java.base/java.lang.reflect.Method.invoke(Method.java:566)\n",
      "\tat py4j.reflection.MethodInvoker.invoke(MethodInvoker.java:244)\n",
      "\tat py4j.reflection.ReflectionEngine.invoke(ReflectionEngine.java:374)\n",
      "\tat py4j.Gateway.invoke(Gateway.java:282)\n",
      "\tat py4j.commands.AbstractCommand.invokeMethod(AbstractCommand.java:132)\n",
      "\tat py4j.commands.CallCommand.execute(CallCommand.java:79)\n",
      "\tat py4j.ClientServerConnection.waitForCommands(ClientServerConnection.java:182)\n",
      "\tat py4j.ClientServerConnection.run(ClientServerConnection.java:106)\n",
      "\tat java.base/java.lang.Thread.run(Thread.java:829)\n",
      "                                                                                \r"
     ]
    }
   ],
   "execution_count": 11
  },
  {
   "metadata": {
    "ExecuteTime": {
     "end_time": "2025-10-24T10:44:10.046217Z",
     "start_time": "2025-10-24T10:44:09.476488Z"
    }
   },
   "cell_type": "code",
   "source": "spark.sql(f\"SELECT * FROM {full_table_name}\").show()",
   "id": "6c76a01c459f59dc",
   "outputs": [
    {
     "name": "stdout",
     "output_type": "stream",
     "text": [
      "+-----------+--------------------+-------------+----------+----------+----------+--------+--------------------+-----------+------------------+--------------------+--------------+--------------------+\n",
      "|campaign_id|       campaign_name|campaign_type|   channel|start_date|  end_date|  budget|     target_audience|creative_id|    _source_system|          _file_name|_record_offset|_ingestion_timestamp|\n",
      "+-----------+--------------------+-------------+----------+----------+----------+--------+--------------------+-----------+------------------+--------------------+--------------+--------------------+\n",
      "|    CAMP001|      Fall Sale 2025|        email|     email|2025-10-01|2025-10-31|15000.00|{\"age_range\":\"25-...|    CRE1001|marketing_platform|campaigns_2025100...|             0| 2025-10-01 08:00:00|\n",
      "|    CAMP004|     Fitness October|        email|     email|2025-10-01|2025-10-31| 8000.00|{\"age_range\":\"22-...|    CRE1004|marketing_platform|campaigns_2025100...|             1| 2025-10-01 08:00:00|\n",
      "|    CAMP008|YouTube Product R...|       social|   youtube|2025-10-01|2025-10-31|12000.00|{\"age_range\":\"18-...|    CRE1008|marketing_platform|campaigns_2025100...|             2| 2025-10-01 08:00:00|\n",
      "|    CAMP009|Retargeting Cart ...|      display|    criteo|2025-10-01|2025-10-31|10000.00|{\"segment\":\"cart-...|    CRE1009|marketing_platform|campaigns_2025100...|             3| 2025-10-01 08:00:00|\n",
      "|    CAMP010|Affiliate Partner...|    affiliate|    impact|2025-10-01|2025-10-31|20000.00|{\"affiliate_tier\"...|    CRE1010|marketing_platform|campaigns_2025100...|             4| 2025-10-01 08:00:00|\n",
      "|    CAMP013|   LinkedIn B2B Tech|       social|  linkedin|2025-10-01|2025-11-30|15000.00|{\"job_titles\":[\"C...|    CRE1013|marketing_platform|campaigns_2025100...|             5| 2025-10-01 08:00:00|\n",
      "|    CAMP001|      Fall Sale 2025|        email|     email|2025-10-01|2025-10-31|15000.00|{\"age_range\":\"25-...|    CRE1001|marketing_platform|campaigns_2025100...|             0| 2025-10-01 08:00:00|\n",
      "|    CAMP004|     Fitness October|        email|     email|2025-10-01|2025-10-31| 8000.00|{\"age_range\":\"22-...|    CRE1004|marketing_platform|campaigns_2025100...|             1| 2025-10-01 08:00:00|\n",
      "|    CAMP008|YouTube Product R...|       social|   youtube|2025-10-01|2025-10-31|12000.00|{\"age_range\":\"18-...|    CRE1008|marketing_platform|campaigns_2025100...|             2| 2025-10-01 08:00:00|\n",
      "|    CAMP009|Retargeting Cart ...|      display|    criteo|2025-10-01|2025-10-31|10000.00|{\"segment\":\"cart-...|    CRE1009|marketing_platform|campaigns_2025100...|             3| 2025-10-01 08:00:00|\n",
      "|    CAMP010|Affiliate Partner...|    affiliate|    impact|2025-10-01|2025-10-31|20000.00|{\"affiliate_tier\"...|    CRE1010|marketing_platform|campaigns_2025100...|             4| 2025-10-01 08:00:00|\n",
      "|    CAMP013|   LinkedIn B2B Tech|       social|  linkedin|2025-10-01|2025-11-30|15000.00|{\"job_titles\":[\"C...|    CRE1013|marketing_platform|campaigns_2025100...|             5| 2025-10-01 08:00:00|\n",
      "|    CAMP005|Instagram Stories...|       social| instagram|2025-10-18|2025-10-20| 5000.00|{\"age_range\":\"18-...|    CRE1005|marketing_platform|campaigns_2025101...|             0| 2025-10-18 08:00:00|\n",
      "|    CAMP005|Instagram Stories...|       social| instagram|2025-10-18|2025-10-20| 5000.00|{\"age_range\":\"18-...|    CRE1005|marketing_platform|campaigns_2025101...|             0| 2025-10-18 08:00:00|\n",
      "|    CAMP011|TikTok Trending C...|       social|    tiktok|2025-10-12|2025-10-26| 8500.00|{\"age_range\":\"16-...|    CRE1011|marketing_platform|campaigns_2025101...|             0| 2025-10-12 08:00:00|\n",
      "|    CAMP011|TikTok Trending C...|       social|    tiktok|2025-10-12|2025-10-26| 8500.00|{\"age_range\":\"16-...|    CRE1011|marketing_platform|campaigns_2025101...|             0| 2025-10-12 08:00:00|\n",
      "|    CAMP006|  Holiday Gift Guide|       search|google_ads|2025-10-20|2025-12-25|35000.00|{\"age_range\":\"25-...|    CRE1006|marketing_platform|campaigns_2025102...|             0| 2025-10-20 08:00:00|\n",
      "|    CAMP006|  Holiday Gift Guide|       search|google_ads|2025-10-20|2025-12-25|35000.00|{\"age_range\":\"25-...|    CRE1006|marketing_platform|campaigns_2025102...|             0| 2025-10-20 08:00:00|\n",
      "|    CAMP014|Mobile App Instal...|      display|  facebook|2025-10-08|2025-10-31| 9000.00|{\"age_range\":\"18-...|    CRE1014|marketing_platform|campaigns_2025100...|             0| 2025-10-08 08:00:00|\n",
      "|    CAMP014|Mobile App Instal...|      display|  facebook|2025-10-08|2025-10-31| 9000.00|{\"age_range\":\"18-...|    CRE1014|marketing_platform|campaigns_2025100...|             0| 2025-10-08 08:00:00|\n",
      "+-----------+--------------------+-------------+----------+----------+----------+--------+--------------------+-----------+------------------+--------------------+--------------+--------------------+\n",
      "only showing top 20 rows\n",
      "\n"
     ]
    }
   ],
   "execution_count": 12
  },
  {
   "metadata": {
    "ExecuteTime": {
     "end_time": "2025-10-24T10:47:05.785304Z",
     "start_time": "2025-10-24T10:47:01.145473Z"
    }
   },
   "cell_type": "code",
   "source": [
    "tables = [\n",
    "    'campaign_events_raw',\n",
    "    'customer_interactions_raw',\n",
    "    'inventory_snapshots_raw',\n",
    "    'marketing_campaigns_raw',\n",
    "    'product_catalog_raw',\n",
    "    'subscriptions_raw',\n",
    "    'transaction_items_raw',\n",
    "    'transactions_raw',\n",
    "]\n",
    "df = None\n",
    "for table in tables:\n",
    "    loop_df = spark.sql(\n",
    "    f\"\"\"\n",
    "    select '{table}' as tt,\n",
    "    count(*) as cnt\n",
    "    from bronze.{table}\n",
    "    \"\"\")\n",
    "    if df is None:\n",
    "        df = loop_df\n",
    "    else:\n",
    "        df = df.union(loop_df)\n",
    "df.show()"
   ],
   "id": "6c833ca010512084",
   "outputs": [
    {
     "name": "stderr",
     "output_type": "stream",
     "text": [
      "25/10/24 10:47:01 WARN MetricsConfig: Cannot locate configuration: tried hadoop-metrics2-s3a-file-system.properties,hadoop-metrics2.properties\n",
      "                                                                                \r"
     ]
    },
    {
     "name": "stdout",
     "output_type": "stream",
     "text": [
      "+--------------------+---+\n",
      "|                  tt|cnt|\n",
      "+--------------------+---+\n",
      "| campaign_events_raw|  0|\n",
      "|customer_interact...|  0|\n",
      "|inventory_snapsho...|  0|\n",
      "|marketing_campaig...|  0|\n",
      "| product_catalog_raw|  0|\n",
      "|   subscriptions_raw|  0|\n",
      "|transaction_items...|  0|\n",
      "|    transactions_raw|  0|\n",
      "+--------------------+---+\n",
      "\n"
     ]
    }
   ],
   "execution_count": 1
  },
  {
   "metadata": {},
   "cell_type": "code",
   "outputs": [],
   "execution_count": null,
   "source": "",
   "id": "3101ef41807803fb"
  }
 ],
 "metadata": {
  "kernelspec": {
   "display_name": "Python 3",
   "language": "python",
   "name": "python3"
  },
  "language_info": {
   "codemirror_mode": {
    "name": "ipython",
    "version": 2
   },
   "file_extension": ".py",
   "mimetype": "text/x-python",
   "name": "python",
   "nbconvert_exporter": "python",
   "pygments_lexer": "ipython2",
   "version": "2.7.6"
  }
 },
 "nbformat": 4,
 "nbformat_minor": 5
}
