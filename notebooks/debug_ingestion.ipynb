{
 "cells": [
  {
   "cell_type": "code",
   "id": "initial_id",
   "metadata": {
    "collapsed": true,
    "ExecuteTime": {
     "end_time": "2025-10-23T14:43:36.704121Z",
     "start_time": "2025-10-23T14:43:36.697825Z"
    }
   },
   "source": [
    "from pyspark.shell import spark\n",
    "from pyspark.sql import DataFrame\n",
    "from pyspark.sql.types import LongType\n",
    "\n",
    "table_config = {\n",
    "    \"name\": \"transactions_raw\",\n",
    "    \"csv_file\": \"bronze_transactions_raw.csv\",\n",
    "    \"database\": \"bronze\"\n",
    "}"
   ],
   "outputs": [],
   "execution_count": 2
  },
  {
   "metadata": {
    "ExecuteTime": {
     "end_time": "2025-10-23T14:43:58.241635Z",
     "start_time": "2025-10-23T14:43:58.235967Z"
    }
   },
   "cell_type": "code",
   "source": [
    "table_name = table_config[\"name\"]\n",
    "csv_file = table_config[\"csv_file\"]\n",
    "database = table_config[\"database\"]\n",
    "full_table_name = f\"{database}.{table_name}\"\n",
    "print(csv_file)\n",
    "print(full_table_name)"
   ],
   "id": "5aad71da2c0e8687",
   "outputs": [
    {
     "name": "stdout",
     "output_type": "stream",
     "text": [
      "bronze_transactions_raw.csv\n",
      "bronze.transactions_raw\n"
     ]
    }
   ],
   "execution_count": 3
  },
  {
   "metadata": {
    "ExecuteTime": {
     "end_time": "2025-10-23T15:09:03.094746Z",
     "start_time": "2025-10-23T15:09:02.792927Z"
    }
   },
   "cell_type": "code",
   "source": [
    "input_path = f\"s3a://data/source_data/{csv_file}\"\n",
    "df = spark.read \\\n",
    "    .option(\"header\", \"true\") \\\n",
    "    .option(\"inferSchema\", \"false\") \\\n",
    "    .option(\"quote\", \"\\\"\") \\\n",
    "    .csv(input_path)"
   ],
   "id": "aa8b29aebe9a7a7f",
   "outputs": [],
   "execution_count": 75
  },
  {
   "metadata": {
    "ExecuteTime": {
     "end_time": "2025-10-23T15:09:03.212851Z",
     "start_time": "2025-10-23T15:09:03.105327Z"
    }
   },
   "cell_type": "code",
   "source": "df.show(truncate=False)",
   "id": "75310d1bad94be74",
   "outputs": [
    {
     "name": "stdout",
     "output_type": "stream",
     "text": [
      "+--------------+-----------+---------------------+-----------+--------+--------------+--------------+--------+----------+-------------+---------------+------------+--------+---------------------+-----------------------+--------------+---------------+--------------------+--------------------------+--------------+\n",
      "|transaction_id|customer_id|transaction_timestamp|channel    |store_id|payment_method|payment_status|subtotal|tax_amount|shipping_cost|discount_amount|total_amount|currency|loyalty_points_earned|loyalty_points_redeemed|coupon_codes  |_source_system |_ingestion_timestamp|_file_name                |_record_offset|\n",
      "+--------------+-----------+---------------------+-----------+--------+--------------+--------------+--------+----------+-------------+---------------+------------+--------+---------------------+-----------------------+--------------+---------------+--------------------+--------------------------+--------------+\n",
      "|TXN001        |CUST10001  |2025-10-20 14:32:15  |online     |NULL    |credit_card   |completed     |145.50  |11.64     |8.99         |14.55          |151.58      |USD     |152                  |0                      |FALL2025      |ecommerce_api  |2025-10-20 15:00:00 |transactions_20251020.json|0             |\n",
      "|TXN002        |CUST10002  |2025-10-20 15:45:22  |mobile     |NULL    |paypal        |completed     |89.99   |7.20      |0.00         |0.00           |97.19       |USD     |97                   |0                      |NULL          |ecommerce_api  |2025-10-20 16:00:00 |transactions_20251020.json|1             |\n",
      "|TXN003        |CUST10003  |2025-10-20 16:12:08  |in-store   |STR001  |cash          |completed     |234.75  |18.78     |0.00         |23.48          |230.05      |USD     |230                  |50                     |NULL          |pos_system     |2025-10-20 17:00:00 |transactions_20251020.json|2             |\n",
      "|TXN004        |CUST10004  |2025-10-20 09:23:45  |online     |NULL    |credit_card   |completed     |567.80  |45.42     |12.99        |56.78          |569.43      |USD     |569                  |0                      |VIP10,FREESHIP|ecommerce_api  |2025-10-20 10:00:00 |transactions_20251020.json|3             |\n",
      "|TXN005        |CUST10005  |2025-10-20 11:56:33  |marketplace|NULL    |amazon_pay    |completed     |42.50   |3.40      |0.00         |4.25           |41.65       |USD     |42                   |0                      |NULL          |marketplace_api|2025-10-20 12:00:00 |transactions_20251020.json|4             |\n",
      "|TXN006        |CUST10001  |2025-10-21 10:15:20  |mobile     |NULL    |apple_pay     |completed     |198.00  |15.84     |9.99         |0.00           |223.83      |USD     |224                  |0                      |NULL          |ecommerce_api  |2025-10-21 11:00:00 |transactions_20251021.json|0             |\n",
      "|TXN007        |CUST10006  |2025-10-21 13:42:11  |online     |NULL    |credit_card   |failed        |325.99  |26.08     |14.99        |0.00           |367.06      |USD     |0                    |0                      |NULL          |ecommerce_api  |2025-10-21 14:00:00 |transactions_20251021.json|1             |\n",
      "|TXN008        |CUST10007  |2025-10-21 14:28:55  |in-store   |STR002  |debit_card    |completed     |78.50   |6.28      |0.00         |7.85           |76.93       |USD     |77                   |0                      |INSTORE15     |pos_system     |2025-10-21 15:00:00 |transactions_20251021.json|2             |\n",
      "|TXN009        |CUST10008  |2025-10-21 16:55:40  |online     |NULL    |paypal        |completed     |450.25  |36.02     |15.99        |45.03          |457.23      |USD     |457                  |100                    |NULL          |ecommerce_api  |2025-10-21 17:00:00 |transactions_20251021.json|3             |\n",
      "|TXN010        |CUST10009  |2025-10-21 18:20:17  |mobile     |NULL    |google_pay    |completed     |112.75  |9.02      |7.99         |0.00           |129.76      |USD     |130                  |0                      |NULL          |ecommerce_api  |2025-10-21 19:00:00 |transactions_20251021.json|4             |\n",
      "|TXN011        |CUST10010  |2025-10-22 08:45:30  |marketplace|NULL    |stripe        |completed     |289.99  |23.20     |0.00         |29.00          |284.19      |USD     |284                  |0                      |MARKET20      |marketplace_api|2025-10-22 09:00:00 |transactions_20251022.json|0             |\n",
      "|TXN012        |CUST10002  |2025-10-22 12:33:28  |online     |NULL    |credit_card   |completed     |67.80   |5.42      |8.99         |0.00           |82.21       |USD     |82                   |0                      |NULL          |ecommerce_api  |2025-10-22 13:00:00 |transactions_20251022.json|1             |\n",
      "|TXN013        |CUST10011  |2025-10-22 15:18:52  |in-store   |STR001  |cash          |completed     |156.40  |12.51     |0.00         |15.64          |153.27      |USD     |153                  |0                      |NULL          |pos_system     |2025-10-22 16:00:00 |transactions_20251022.json|2             |\n",
      "|TXN014        |CUST10012  |2025-10-22 17:05:45  |online     |NULL    |paypal        |pending       |892.50  |71.40     |19.99        |89.25          |894.64      |USD     |0                    |0                      |BIGBUY10      |ecommerce_api  |2025-10-22 18:00:00 |transactions_20251022.json|3             |\n",
      "|TXN015        |CUST10003  |2025-10-22 19:42:13  |mobile     |NULL    |apple_pay     |completed     |134.20  |10.74     |9.99         |13.42          |141.51      |USD     |142                  |0                      |NULL          |ecommerce_api  |2025-10-22 20:00:00 |transactions_20251022.json|4             |\n",
      "|TXN016        |CUST10013  |2025-10-23 09:10:05  |online     |NULL    |credit_card   |completed     |523.75  |41.90     |14.99        |52.38          |528.26      |USD     |528                  |200                    |NULL          |ecommerce_api  |2025-10-23 10:00:00 |transactions_20251023.json|0             |\n",
      "|TXN017        |CUST10014  |2025-10-23 11:25:38  |in-store   |STR003  |debit_card    |completed     |98.60   |7.89      |0.00         |0.00           |106.49      |USD     |106                  |0                      |NULL          |pos_system     |2025-10-23 12:00:00 |transactions_20251023.json|1             |\n",
      "|TXN018        |CUST10015  |2025-10-23 13:48:22  |marketplace|NULL    |amazon_pay    |completed     |215.30  |17.22     |0.00         |21.53          |210.99      |USD     |211                  |0                      |PRIME15       |marketplace_api|2025-10-23 14:00:00 |transactions_20251023.json|2             |\n",
      "|TXN019        |CUST10005  |2025-10-23 16:30:50  |online     |NULL    |credit_card   |completed     |345.80  |27.66     |12.99        |34.58          |351.87      |USD     |352                  |0                      |NULL          |ecommerce_api  |2025-10-23 17:00:00 |transactions_20251023.json|3             |\n",
      "|TXN020        |CUST10016  |2025-10-23 18:55:12  |mobile     |NULL    |google_pay    |completed     |189.95  |15.20     |9.99         |0.00           |215.14      |USD     |215                  |0                      |NULL          |ecommerce_api  |2025-10-23 19:00:00 |transactions_20251023.json|4             |\n",
      "+--------------+-----------+---------------------+-----------+--------+--------------+--------------+--------+----------+-------------+---------------+------------+--------+---------------------+-----------------------+--------------+---------------+--------------------+--------------------------+--------------+\n",
      "\n"
     ]
    }
   ],
   "execution_count": 76
  },
  {
   "metadata": {
    "ExecuteTime": {
     "end_time": "2025-10-23T15:09:18.736835Z",
     "start_time": "2025-10-23T15:09:18.699929Z"
    }
   },
   "cell_type": "code",
   "source": [
    "from pyspark.sql.functions import to_timestamp, col\n",
    "from pyspark.sql import DataFrame\n",
    "\n",
    "df: DataFrame = df.withColumn(\"_ingestion_timestamp_casted\", to_timestamp(col(\"_ingestion_timestamp\"), \"yyyy-MM-dd HH:mm:ss\"))\n",
    "df: DataFrame = df.withColumn('_record_offset_casted', df['_record_offset'].astype('bigint'))\n",
    "df = df.drop('_record_offset').withColumnRenamed('_record_offset_casted', '_record_offset')\\\n",
    "        .drop('_ingestion_timestamp').withColumnRenamed('_ingestion_timestamp_casted', '_ingestion_timestamp')"
   ],
   "id": "869440ccf9cc038e",
   "outputs": [],
   "execution_count": 77
  },
  {
   "metadata": {
    "ExecuteTime": {
     "end_time": "2025-10-23T15:09:19.987080Z",
     "start_time": "2025-10-23T15:09:19.978600Z"
    }
   },
   "cell_type": "code",
   "source": "df.printSchema()",
   "id": "567983f0a823d67f",
   "outputs": [
    {
     "name": "stdout",
     "output_type": "stream",
     "text": [
      "root\n",
      " |-- transaction_id: string (nullable = true)\n",
      " |-- customer_id: string (nullable = true)\n",
      " |-- transaction_timestamp: string (nullable = true)\n",
      " |-- channel: string (nullable = true)\n",
      " |-- store_id: string (nullable = true)\n",
      " |-- payment_method: string (nullable = true)\n",
      " |-- payment_status: string (nullable = true)\n",
      " |-- subtotal: string (nullable = true)\n",
      " |-- tax_amount: string (nullable = true)\n",
      " |-- shipping_cost: string (nullable = true)\n",
      " |-- discount_amount: string (nullable = true)\n",
      " |-- total_amount: string (nullable = true)\n",
      " |-- currency: string (nullable = true)\n",
      " |-- loyalty_points_earned: string (nullable = true)\n",
      " |-- loyalty_points_redeemed: string (nullable = true)\n",
      " |-- coupon_codes: string (nullable = true)\n",
      " |-- _source_system: string (nullable = true)\n",
      " |-- _file_name: string (nullable = true)\n",
      " |-- _ingestion_timestamp: timestamp (nullable = true)\n",
      " |-- _record_offset: long (nullable = true)\n",
      "\n"
     ]
    }
   ],
   "execution_count": 78
  },
  {
   "metadata": {
    "ExecuteTime": {
     "end_time": "2025-10-23T15:11:03.277673Z",
     "start_time": "2025-10-23T15:11:03.189911Z"
    }
   },
   "cell_type": "code",
   "source": "cols = [col.col_name for col in spark.sql(f\"SHOW COLUMNS IN {full_table_name}\").select('col_name').collect()]",
   "id": "7a8ad68846bac2f4",
   "outputs": [],
   "execution_count": 82
  },
  {
   "metadata": {
    "ExecuteTime": {
     "end_time": "2025-10-23T15:11:03.851452Z",
     "start_time": "2025-10-23T15:11:03.844323Z"
    }
   },
   "cell_type": "code",
   "source": "print(cols)",
   "id": "26a5125f8292634c",
   "outputs": [
    {
     "name": "stdout",
     "output_type": "stream",
     "text": [
      "['transaction_id', 'customer_id', 'transaction_timestamp', 'channel', 'store_id', 'payment_method', 'payment_status', 'subtotal', 'tax_amount', 'shipping_cost', 'discount_amount', 'total_amount', 'currency', 'loyalty_points_earned', 'loyalty_points_redeemed', 'coupon_codes', '_source_system', '_file_name', '_record_offset', '_ingestion_timestamp']\n"
     ]
    }
   ],
   "execution_count": 83
  },
  {
   "metadata": {
    "ExecuteTime": {
     "end_time": "2025-10-23T15:11:15.571723Z",
     "start_time": "2025-10-23T15:11:15.546367Z"
    }
   },
   "cell_type": "code",
   "source": "df = df.select([df[col] for col in cols])",
   "id": "a417a0da2469780a",
   "outputs": [],
   "execution_count": 84
  },
  {
   "metadata": {
    "ExecuteTime": {
     "end_time": "2025-10-23T15:11:16.985722Z",
     "start_time": "2025-10-23T15:11:16.975133Z"
    }
   },
   "cell_type": "code",
   "source": "df.printSchema()",
   "id": "d617cc261599cba4",
   "outputs": [
    {
     "name": "stdout",
     "output_type": "stream",
     "text": [
      "root\n",
      " |-- transaction_id: string (nullable = true)\n",
      " |-- customer_id: string (nullable = true)\n",
      " |-- transaction_timestamp: string (nullable = true)\n",
      " |-- channel: string (nullable = true)\n",
      " |-- store_id: string (nullable = true)\n",
      " |-- payment_method: string (nullable = true)\n",
      " |-- payment_status: string (nullable = true)\n",
      " |-- subtotal: string (nullable = true)\n",
      " |-- tax_amount: string (nullable = true)\n",
      " |-- shipping_cost: string (nullable = true)\n",
      " |-- discount_amount: string (nullable = true)\n",
      " |-- total_amount: string (nullable = true)\n",
      " |-- currency: string (nullable = true)\n",
      " |-- loyalty_points_earned: string (nullable = true)\n",
      " |-- loyalty_points_redeemed: string (nullable = true)\n",
      " |-- coupon_codes: string (nullable = true)\n",
      " |-- _source_system: string (nullable = true)\n",
      " |-- _file_name: string (nullable = true)\n",
      " |-- _record_offset: long (nullable = true)\n",
      " |-- _ingestion_timestamp: timestamp (nullable = true)\n",
      "\n"
     ]
    }
   ],
   "execution_count": 85
  },
  {
   "metadata": {
    "ExecuteTime": {
     "end_time": "2025-10-23T15:11:35.730838Z",
     "start_time": "2025-10-23T15:11:21.734547Z"
    }
   },
   "cell_type": "code",
   "source": "df.write.insertInto(full_table_name)",
   "id": "bc27865dddceee36",
   "outputs": [
    {
     "name": "stderr",
     "output_type": "stream",
     "text": [
      "25/10/23 15:11:21 WARN SessionState: METASTORE_FILTER_HOOK will be ignored, since hive.security.authorization.manager is set to instance of HiveAuthorizerFactory.\n",
      "25/10/23 15:11:21 WARN RetryingMetaStoreClient: MetaStoreClient lost connection. Attempting to reconnect (1 of 1) after 1s. listPartitionsWithAuthInfo\n",
      "org.apache.thrift.transport.TTransportException: Cannot write to null outputStream\n",
      "\tat org.apache.thrift.transport.TIOStreamTransport.write(TIOStreamTransport.java:142)\n",
      "\tat org.apache.thrift.protocol.TBinaryProtocol.writeI32(TBinaryProtocol.java:185)\n",
      "\tat org.apache.thrift.protocol.TBinaryProtocol.writeMessageBegin(TBinaryProtocol.java:116)\n",
      "\tat org.apache.thrift.TServiceClient.sendBase(TServiceClient.java:70)\n",
      "\tat org.apache.thrift.TServiceClient.sendBase(TServiceClient.java:62)\n",
      "\tat org.apache.hadoop.hive.metastore.api.ThriftHiveMetastore$Client.send_get_partitions_ps_with_auth(ThriftHiveMetastore.java:2562)\n",
      "\tat org.apache.hadoop.hive.metastore.api.ThriftHiveMetastore$Client.get_partitions_ps_with_auth(ThriftHiveMetastore.java:2549)\n",
      "\tat org.apache.hadoop.hive.metastore.HiveMetaStoreClient.listPartitionsWithAuthInfo(HiveMetaStoreClient.java:1207)\n",
      "\tat java.base/jdk.internal.reflect.NativeMethodAccessorImpl.invoke0(Native Method)\n",
      "\tat java.base/jdk.internal.reflect.NativeMethodAccessorImpl.invoke(NativeMethodAccessorImpl.java:62)\n",
      "\tat java.base/jdk.internal.reflect.DelegatingMethodAccessorImpl.invoke(DelegatingMethodAccessorImpl.java:43)\n",
      "\tat java.base/java.lang.reflect.Method.invoke(Method.java:566)\n",
      "\tat org.apache.hadoop.hive.metastore.RetryingMetaStoreClient.invoke(RetryingMetaStoreClient.java:173)\n",
      "\tat com.sun.proxy.$Proxy44.listPartitionsWithAuthInfo(Unknown Source)\n",
      "\tat java.base/jdk.internal.reflect.NativeMethodAccessorImpl.invoke0(Native Method)\n",
      "\tat java.base/jdk.internal.reflect.NativeMethodAccessorImpl.invoke(NativeMethodAccessorImpl.java:62)\n",
      "\tat java.base/jdk.internal.reflect.DelegatingMethodAccessorImpl.invoke(DelegatingMethodAccessorImpl.java:43)\n",
      "\tat java.base/java.lang.reflect.Method.invoke(Method.java:566)\n",
      "\tat org.apache.hadoop.hive.metastore.HiveMetaStoreClient$SynchronizedHandler.invoke(HiveMetaStoreClient.java:2327)\n",
      "\tat com.sun.proxy.$Proxy44.listPartitionsWithAuthInfo(Unknown Source)\n",
      "\tat org.apache.hadoop.hive.ql.metadata.Hive.getPartitions(Hive.java:2562)\n",
      "\tat org.apache.hadoop.hive.ql.metadata.Hive.getPartitions(Hive.java:2588)\n",
      "\tat org.apache.spark.sql.hive.client.Shim_v0_12.getPartitions(HiveShim.scala:660)\n",
      "\tat org.apache.spark.sql.hive.client.HiveClientImpl.$anonfun$getPartitions$3(HiveClientImpl.scala:802)\n",
      "\tat org.apache.spark.sql.hive.client.HiveClientImpl.$anonfun$withHiveState$1(HiveClientImpl.scala:303)\n",
      "\tat org.apache.spark.sql.hive.client.HiveClientImpl.liftedTree1$1(HiveClientImpl.scala:234)\n",
      "\tat org.apache.spark.sql.hive.client.HiveClientImpl.retryLocked(HiveClientImpl.scala:233)\n",
      "\tat org.apache.spark.sql.hive.client.HiveClientImpl.withHiveState(HiveClientImpl.scala:283)\n",
      "\tat org.apache.spark.sql.hive.client.HiveClientImpl.getPartitions(HiveClientImpl.scala:795)\n",
      "\tat org.apache.spark.sql.hive.client.HiveClientImpl.getPartitions(HiveClientImpl.scala:790)\n",
      "\tat org.apache.spark.sql.hive.HiveExternalCatalog.$anonfun$listPartitions$1(HiveExternalCatalog.scala:1281)\n",
      "\tat org.apache.spark.sql.hive.HiveExternalCatalog.withClient(HiveExternalCatalog.scala:99)\n",
      "\tat org.apache.spark.sql.hive.HiveExternalCatalog.listPartitions(HiveExternalCatalog.scala:1277)\n",
      "\tat org.apache.spark.sql.catalyst.catalog.ExternalCatalogWithListener.listPartitions(ExternalCatalogWithListener.scala:254)\n",
      "\tat org.apache.spark.sql.catalyst.catalog.SessionCatalog.listPartitions(SessionCatalog.scala:1294)\n",
      "\tat org.apache.spark.sql.execution.datasources.InsertIntoHadoopFsRelationCommand.run(InsertIntoHadoopFsRelationCommand.scala:104)\n",
      "\tat org.apache.spark.sql.execution.command.DataWritingCommandExec.sideEffectResult$lzycompute(commands.scala:113)\n",
      "\tat org.apache.spark.sql.execution.command.DataWritingCommandExec.sideEffectResult(commands.scala:111)\n",
      "\tat org.apache.spark.sql.execution.command.DataWritingCommandExec.executeCollect(commands.scala:125)\n",
      "\tat org.apache.spark.sql.execution.QueryExecution$$anonfun$eagerlyExecuteCommands$1.$anonfun$applyOrElse$1(QueryExecution.scala:107)\n",
      "\tat org.apache.spark.sql.execution.SQLExecution$.$anonfun$withNewExecutionId$6(SQLExecution.scala:125)\n",
      "\tat org.apache.spark.sql.execution.SQLExecution$.withSQLConfPropagated(SQLExecution.scala:201)\n",
      "\tat org.apache.spark.sql.execution.SQLExecution$.$anonfun$withNewExecutionId$1(SQLExecution.scala:108)\n",
      "\tat org.apache.spark.sql.SparkSession.withActive(SparkSession.scala:900)\n",
      "\tat org.apache.spark.sql.execution.SQLExecution$.withNewExecutionId(SQLExecution.scala:66)\n",
      "\tat org.apache.spark.sql.execution.QueryExecution$$anonfun$eagerlyExecuteCommands$1.applyOrElse(QueryExecution.scala:107)\n",
      "\tat org.apache.spark.sql.execution.QueryExecution$$anonfun$eagerlyExecuteCommands$1.applyOrElse(QueryExecution.scala:98)\n",
      "\tat org.apache.spark.sql.catalyst.trees.TreeNode.$anonfun$transformDownWithPruning$1(TreeNode.scala:461)\n",
      "\tat org.apache.spark.sql.catalyst.trees.CurrentOrigin$.withOrigin(origin.scala:76)\n",
      "\tat org.apache.spark.sql.catalyst.trees.TreeNode.transformDownWithPruning(TreeNode.scala:461)\n",
      "\tat org.apache.spark.sql.catalyst.plans.logical.LogicalPlan.org$apache$spark$sql$catalyst$plans$logical$AnalysisHelper$$super$transformDownWithPruning(LogicalPlan.scala:32)\n",
      "\tat org.apache.spark.sql.catalyst.plans.logical.AnalysisHelper.transformDownWithPruning(AnalysisHelper.scala:267)\n",
      "\tat org.apache.spark.sql.catalyst.plans.logical.AnalysisHelper.transformDownWithPruning$(AnalysisHelper.scala:263)\n",
      "\tat org.apache.spark.sql.catalyst.plans.logical.LogicalPlan.transformDownWithPruning(LogicalPlan.scala:32)\n",
      "\tat org.apache.spark.sql.catalyst.plans.logical.LogicalPlan.transformDownWithPruning(LogicalPlan.scala:32)\n",
      "\tat org.apache.spark.sql.catalyst.trees.TreeNode.transformDown(TreeNode.scala:437)\n",
      "\tat org.apache.spark.sql.execution.QueryExecution.eagerlyExecuteCommands(QueryExecution.scala:98)\n",
      "\tat org.apache.spark.sql.execution.QueryExecution.commandExecuted$lzycompute(QueryExecution.scala:85)\n",
      "\tat org.apache.spark.sql.execution.QueryExecution.commandExecuted(QueryExecution.scala:83)\n",
      "\tat org.apache.spark.sql.execution.QueryExecution.assertCommandExecuted(QueryExecution.scala:142)\n",
      "\tat org.apache.spark.sql.DataFrameWriter.runCommand(DataFrameWriter.scala:869)\n",
      "\tat org.apache.spark.sql.DataFrameWriter.insertInto(DataFrameWriter.scala:484)\n",
      "\tat org.apache.spark.sql.DataFrameWriter.insertInto(DataFrameWriter.scala:445)\n",
      "\tat java.base/jdk.internal.reflect.NativeMethodAccessorImpl.invoke0(Native Method)\n",
      "\tat java.base/jdk.internal.reflect.NativeMethodAccessorImpl.invoke(NativeMethodAccessorImpl.java:62)\n",
      "\tat java.base/jdk.internal.reflect.DelegatingMethodAccessorImpl.invoke(DelegatingMethodAccessorImpl.java:43)\n",
      "\tat java.base/java.lang.reflect.Method.invoke(Method.java:566)\n",
      "\tat py4j.reflection.MethodInvoker.invoke(MethodInvoker.java:244)\n",
      "\tat py4j.reflection.ReflectionEngine.invoke(ReflectionEngine.java:374)\n",
      "\tat py4j.Gateway.invoke(Gateway.java:282)\n",
      "\tat py4j.commands.AbstractCommand.invokeMethod(AbstractCommand.java:132)\n",
      "\tat py4j.commands.CallCommand.execute(CallCommand.java:79)\n",
      "\tat py4j.ClientServerConnection.waitForCommands(ClientServerConnection.java:182)\n",
      "\tat py4j.ClientServerConnection.run(ClientServerConnection.java:106)\n",
      "\tat java.base/java.lang.Thread.run(Thread.java:829)\n",
      "                                                                                \r"
     ]
    }
   ],
   "execution_count": 86
  },
  {
   "metadata": {
    "ExecuteTime": {
     "end_time": "2025-10-23T15:12:05.669708Z",
     "start_time": "2025-10-23T15:12:04.938219Z"
    }
   },
   "cell_type": "code",
   "source": "spark.sql(f\"SELECT * FROM {full_table_name}\").show()",
   "id": "6c76a01c459f59dc",
   "outputs": [
    {
     "name": "stdout",
     "output_type": "stream",
     "text": [
      "+--------------+-----------+---------------------+-----------+--------+--------------+--------------+--------+----------+-------------+---------------+------------+--------+---------------------+-----------------------+--------------+---------------+--------------------+--------------+--------------------+\n",
      "|transaction_id|customer_id|transaction_timestamp|    channel|store_id|payment_method|payment_status|subtotal|tax_amount|shipping_cost|discount_amount|total_amount|currency|loyalty_points_earned|loyalty_points_redeemed|  coupon_codes| _source_system|          _file_name|_record_offset|_ingestion_timestamp|\n",
      "+--------------+-----------+---------------------+-----------+--------+--------------+--------------+--------+----------+-------------+---------------+------------+--------+---------------------+-----------------------+--------------+---------------+--------------------+--------------+--------------------+\n",
      "|        TXN004|  CUST10004|  2025-10-20 09:23:45|     online|    NULL|   credit_card|     completed|  567.80|     45.42|        12.99|          56.78|      569.43|     USD|                  569|                      0|VIP10,FREESHIP|  ecommerce_api|transactions_2025...|             3| 2025-10-20 10:00:00|\n",
      "|        TXN018|  CUST10015|  2025-10-23 13:48:22|marketplace|    NULL|    amazon_pay|     completed|  215.30|     17.22|         0.00|          21.53|      210.99|     USD|                  211|                      0|       PRIME15|marketplace_api|transactions_2025...|             2| 2025-10-23 14:00:00|\n",
      "|        TXN011|  CUST10010|  2025-10-22 08:45:30|marketplace|    NULL|        stripe|     completed|  289.99|     23.20|         0.00|          29.00|      284.19|     USD|                  284|                      0|      MARKET20|marketplace_api|transactions_2025...|             0| 2025-10-22 09:00:00|\n",
      "|        TXN008|  CUST10007|  2025-10-21 14:28:55|   in-store|  STR002|    debit_card|     completed|   78.50|      6.28|         0.00|           7.85|       76.93|     USD|                   77|                      0|     INSTORE15|     pos_system|transactions_2025...|             2| 2025-10-21 15:00:00|\n",
      "|        TXN001|  CUST10001|  2025-10-20 14:32:15|     online|    NULL|   credit_card|     completed|  145.50|     11.64|         8.99|          14.55|      151.58|     USD|                  152|                      0|      FALL2025|  ecommerce_api|transactions_2025...|             0| 2025-10-20 15:00:00|\n",
      "|        TXN016|  CUST10013|  2025-10-23 09:10:05|     online|    NULL|   credit_card|     completed|  523.75|     41.90|        14.99|          52.38|      528.26|     USD|                  528|                    200|          NULL|  ecommerce_api|transactions_2025...|             0| 2025-10-23 10:00:00|\n",
      "|        TXN017|  CUST10014|  2025-10-23 11:25:38|   in-store|  STR003|    debit_card|     completed|   98.60|      7.89|         0.00|           0.00|      106.49|     USD|                  106|                      0|          NULL|     pos_system|transactions_2025...|             1| 2025-10-23 12:00:00|\n",
      "|        TXN014|  CUST10012|  2025-10-22 17:05:45|     online|    NULL|        paypal|       pending|  892.50|     71.40|        19.99|          89.25|      894.64|     USD|                    0|                      0|      BIGBUY10|  ecommerce_api|transactions_2025...|             3| 2025-10-22 18:00:00|\n",
      "|        TXN005|  CUST10005|  2025-10-20 11:56:33|marketplace|    NULL|    amazon_pay|     completed|   42.50|      3.40|         0.00|           4.25|       41.65|     USD|                   42|                      0|          NULL|marketplace_api|transactions_2025...|             4| 2025-10-20 12:00:00|\n",
      "|        TXN019|  CUST10005|  2025-10-23 16:30:50|     online|    NULL|   credit_card|     completed|  345.80|     27.66|        12.99|          34.58|      351.87|     USD|                  352|                      0|          NULL|  ecommerce_api|transactions_2025...|             3| 2025-10-23 17:00:00|\n",
      "|        TXN003|  CUST10003|  2025-10-20 16:12:08|   in-store|  STR001|          cash|     completed|  234.75|     18.78|         0.00|          23.48|      230.05|     USD|                  230|                     50|          NULL|     pos_system|transactions_2025...|             2| 2025-10-20 17:00:00|\n",
      "|        TXN013|  CUST10011|  2025-10-22 15:18:52|   in-store|  STR001|          cash|     completed|  156.40|     12.51|         0.00|          15.64|      153.27|     USD|                  153|                      0|          NULL|     pos_system|transactions_2025...|             2| 2025-10-22 16:00:00|\n",
      "|        TXN009|  CUST10008|  2025-10-21 16:55:40|     online|    NULL|        paypal|     completed|  450.25|     36.02|        15.99|          45.03|      457.23|     USD|                  457|                    100|          NULL|  ecommerce_api|transactions_2025...|             3| 2025-10-21 17:00:00|\n",
      "|        TXN015|  CUST10003|  2025-10-22 19:42:13|     mobile|    NULL|     apple_pay|     completed|  134.20|     10.74|         9.99|          13.42|      141.51|     USD|                  142|                      0|          NULL|  ecommerce_api|transactions_2025...|             4| 2025-10-22 20:00:00|\n",
      "|        TXN020|  CUST10016|  2025-10-23 18:55:12|     mobile|    NULL|    google_pay|     completed|  189.95|     15.20|         9.99|           0.00|      215.14|     USD|                  215|                      0|          NULL|  ecommerce_api|transactions_2025...|             4| 2025-10-23 19:00:00|\n",
      "|        TXN006|  CUST10001|  2025-10-21 10:15:20|     mobile|    NULL|     apple_pay|     completed|  198.00|     15.84|         9.99|           0.00|      223.83|     USD|                  224|                      0|          NULL|  ecommerce_api|transactions_2025...|             0| 2025-10-21 11:00:00|\n",
      "|        TXN010|  CUST10009|  2025-10-21 18:20:17|     mobile|    NULL|    google_pay|     completed|  112.75|      9.02|         7.99|           0.00|      129.76|     USD|                  130|                      0|          NULL|  ecommerce_api|transactions_2025...|             4| 2025-10-21 19:00:00|\n",
      "|        TXN007|  CUST10006|  2025-10-21 13:42:11|     online|    NULL|   credit_card|        failed|  325.99|     26.08|        14.99|           0.00|      367.06|     USD|                    0|                      0|          NULL|  ecommerce_api|transactions_2025...|             1| 2025-10-21 14:00:00|\n",
      "|        TXN012|  CUST10002|  2025-10-22 12:33:28|     online|    NULL|   credit_card|     completed|   67.80|      5.42|         8.99|           0.00|       82.21|     USD|                   82|                      0|          NULL|  ecommerce_api|transactions_2025...|             1| 2025-10-22 13:00:00|\n",
      "|        TXN002|  CUST10002|  2025-10-20 15:45:22|     mobile|    NULL|        paypal|     completed|   89.99|      7.20|         0.00|           0.00|       97.19|     USD|                   97|                      0|          NULL|  ecommerce_api|transactions_2025...|             1| 2025-10-20 16:00:00|\n",
      "+--------------+-----------+---------------------+-----------+--------+--------------+--------------+--------+----------+-------------+---------------+------------+--------+---------------------+-----------------------+--------------+---------------+--------------------+--------------+--------------------+\n",
      "\n"
     ]
    }
   ],
   "execution_count": 87
  },
  {
   "metadata": {},
   "cell_type": "code",
   "outputs": [],
   "execution_count": null,
   "source": "",
   "id": "6c833ca010512084"
  }
 ],
 "metadata": {
  "kernelspec": {
   "display_name": "Python 3",
   "language": "python",
   "name": "python3"
  },
  "language_info": {
   "codemirror_mode": {
    "name": "ipython",
    "version": 2
   },
   "file_extension": ".py",
   "mimetype": "text/x-python",
   "name": "python",
   "nbconvert_exporter": "python",
   "pygments_lexer": "ipython2",
   "version": "2.7.6"
  }
 },
 "nbformat": 4,
 "nbformat_minor": 5
}
