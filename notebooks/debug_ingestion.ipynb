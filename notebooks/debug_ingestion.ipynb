{
 "cells": [
  {
   "metadata": {
    "ExecuteTime": {
     "end_time": "2025-10-24T15:54:12.957912Z",
     "start_time": "2025-10-24T15:54:12.949923Z"
    }
   },
   "cell_type": "code",
   "source": [
    "def load_and_show(schema, tables):\n",
    "    df = None\n",
    "    for table in tables:\n",
    "        loop_df = spark.sql(\n",
    "        f\"\"\"\n",
    "        select '{table}' as tt,\n",
    "        count(*) as cnt\n",
    "        from {schema}.{table}\n",
    "        \"\"\")\n",
    "        if df is None:\n",
    "            df = loop_df\n",
    "        else:\n",
    "            df = df.union(loop_df)\n",
    "    df.show(truncate=False)"
   ],
   "id": "146070dd43403e9c",
   "outputs": [],
   "execution_count": 3
  },
  {
   "metadata": {
    "ExecuteTime": {
     "end_time": "2025-10-24T13:19:48.577995Z",
     "start_time": "2025-10-24T13:19:41.899952Z"
    }
   },
   "cell_type": "code",
   "source": [
    "bronze_tables = [\n",
    "    'campaign_events_raw',\n",
    "    'customer_interactions_raw',\n",
    "    'inventory_snapshots_raw',\n",
    "    'marketing_campaigns_raw',\n",
    "    'product_catalog_raw',\n",
    "    'subscriptions_raw',\n",
    "    'transaction_items_raw',\n",
    "    'transactions_raw',\n",
    "]\n",
    "load_and_show('bronze', bronze_tables)"
   ],
   "id": "2c76b1e539123006",
   "outputs": [
    {
     "name": "stderr",
     "output_type": "stream",
     "text": [
      "[Stage 7:===========>                                               (1 + 4) / 5]\r"
     ]
    },
    {
     "name": "stdout",
     "output_type": "stream",
     "text": [
      "+--------------------+---+\n",
      "|                  tt|cnt|\n",
      "+--------------------+---+\n",
      "| campaign_events_raw| 45|\n",
      "|customer_interact...| 20|\n",
      "|inventory_snapsho...| 40|\n",
      "|marketing_campaig...| 15|\n",
      "| product_catalog_raw| 20|\n",
      "|   subscriptions_raw| 20|\n",
      "|transaction_items...| 25|\n",
      "|    transactions_raw| 20|\n",
      "+--------------------+---+\n",
      "\n"
     ]
    },
    {
     "name": "stderr",
     "output_type": "stream",
     "text": [
      "                                                                                \r"
     ]
    }
   ],
   "execution_count": 3
  },
  {
   "metadata": {
    "ExecuteTime": {
     "end_time": "2025-10-24T14:31:47.698139Z",
     "start_time": "2025-10-24T14:31:39.746775Z"
    }
   },
   "cell_type": "code",
   "source": [
    "silver_tables = [\n",
    "'customer_interactions',\n",
    "'inventory_snapshots',\n",
    "'product_catalog',\n",
    "'subscriptions',\n",
    "'transaction_items',\n",
    "'transactions',\n",
    "]\n",
    "load_and_show('silver', silver_tables)"
   ],
   "id": "d0e43a8f39d87677",
   "outputs": [
    {
     "name": "stderr",
     "output_type": "stream",
     "text": [
      "25/10/24 14:31:39 WARN MetricsConfig: Cannot locate configuration: tried hadoop-metrics2-s3a-file-system.properties,hadoop-metrics2.properties\n",
      "                                                                                \r"
     ]
    },
    {
     "name": "stdout",
     "output_type": "stream",
     "text": [
      "+---------------------+---+\n",
      "|tt                   |cnt|\n",
      "+---------------------+---+\n",
      "|customer_interactions|20 |\n",
      "|inventory_snapshots  |40 |\n",
      "|product_catalog      |20 |\n",
      "|subscriptions        |20 |\n",
      "|transaction_items    |25 |\n",
      "|transactions         |20 |\n",
      "+---------------------+---+\n",
      "\n"
     ]
    }
   ],
   "execution_count": 2
  },
  {
   "metadata": {
    "ExecuteTime": {
     "end_time": "2025-10-24T14:31:52.045591Z",
     "start_time": "2025-10-24T14:31:51.429335Z"
    }
   },
   "cell_type": "code",
   "source": "spark.sql('select * from silver.customer_interactions').show()",
   "id": "3101ef41807803fb",
   "outputs": [
    {
     "name": "stdout",
     "output_type": "stream",
     "text": [
      "+--------------+-----------+---------------------+----------------+----------------+--------+--------+---------------+--------------------+---------------+-----------------------+-------------------+-----------+------------+-------------+--------------------+----------------+-----------------+\n",
      "|interaction_id|customer_id|interaction_timestamp|interaction_date|interaction_type| channel|agent_id|       category|         subcategory|sentiment_score|resolution_time_minutes|satisfaction_rating|is_resolved|is_escalated|source_system|   created_timestamp|interaction_year|interaction_month|\n",
      "+--------------+-----------+---------------------+----------------+----------------+--------+--------+---------------+--------------------+---------------+-----------------------+-------------------+-----------+------------+-------------+--------------------+----------------+-----------------+\n",
      "|             7|      10004|  2025-10-20 12:40:18|      2025-10-20|    social_media| twitter|       5|      complaint|    customer_service|          -0.65|                     90|                  1|       true|        true|  support_crm|2025-10-24 14:31:...|            2025|               10|\n",
      "|             1|      10001|  2025-10-18 10:15:30|      2025-10-18|  support_ticket|   email|       1|    order_issue|      shipping_delay|           0.45|                    125|                  4|       true|       false|  support_crm|2025-10-24 14:31:...|            2025|               10|\n",
      "|            17|      10001|  2025-10-23 12:50:12|      2025-10-23|    social_media|facebook|       5|       feedback|     positive_review|           0.95|                      5|                  5|       true|       false|  support_crm|2025-10-24 14:31:...|            2025|               10|\n",
      "|            11|      10008|  2025-10-21 17:33:15|      2025-10-21|  support_ticket|   email|       2|        billing|      refund_request|           0.25|                    150|                  4|       true|       false|  support_crm|2025-10-24 14:31:...|            2025|               10|\n",
      "|             6|      10009|  2025-10-20 08:52:33|      2025-10-20|  support_ticket|   email|       2|         return|   defective_product|          -0.45|                    240|                  2|       true|       false|  support_crm|2025-10-24 14:31:...|            2025|               10|\n",
      "|             4|      10007|  2025-10-19 11:30:55|      2025-10-19|           email|   email|       1|        account|      password_reset|          -0.15|                    180|                  2|       true|       false|  support_crm|2025-10-24 14:31:...|            2025|               10|\n",
      "|             2|      10003|  2025-10-18 14:22:45|      2025-10-18|            chat|     web|       2|product_inquiry|      specifications|           0.82|                     15|                  5|       true|       false|  support_crm|2025-10-24 14:31:...|            2025|               10|\n",
      "|             9|      10006|  2025-10-21 10:10:22|      2025-10-21|           phone|   phone|       1|   subscription|        cancellation|          -0.25|                     30|                  3|       true|       false|  support_crm|2025-10-24 14:31:...|            2025|               10|\n",
      "|            10|      10013|  2025-10-21 13:55:40|      2025-10-21|           email|   email|       4|product_inquiry|       compatibility|           0.68|                     20|                  4|       true|       false|  support_crm|2025-10-24 14:31:...|            2025|               10|\n",
      "|            16|      10016|  2025-10-23 08:15:45|      2025-10-23|  support_ticket|   email|       2|         return|        changed_mind|           0.40|                     90|                  4|       true|       false|  support_crm|2025-10-24 14:31:...|            2025|               10|\n",
      "|            12|      10015|  2025-10-22 09:20:08|      2025-10-22|            chat|  mobile|       5|      technical|           app_issue|          -0.10|                     35|                  3|       true|       false|  support_crm|2025-10-24 14:31:...|            2025|               10|\n",
      "|             3|      10005|  2025-10-19 09:45:12|      2025-10-19|           phone|   phone|       3|        billing|subscription_renewal|           0.35|                     45|                  3|       true|       false|  support_crm|2025-10-24 14:31:...|            2025|               10|\n",
      "|            19|      10017|  2025-10-23 17:40:55|      2025-10-23|            chat|  mobile|       1|  order_inquiry|       delivery_time|           0.50|                      7|                  4|       true|       false|  support_crm|2025-10-24 14:31:...|            2025|               10|\n",
      "|             5|      10002|  2025-10-19 15:18:20|      2025-10-19|            chat|  mobile|       4|product_inquiry|        availability|           0.75|                      8|                  5|       true|       false|  support_crm|2025-10-24 14:31:...|            2025|               10|\n",
      "|            18|      10003|  2025-10-23 15:22:38|      2025-10-23|           phone|   phone|       3|        account|         update_info|           0.60|                     18|                  4|       true|       false|  support_crm|2025-10-24 14:31:...|            2025|               10|\n",
      "|            15|      10014|  2025-10-22 18:38:27|      2025-10-22|            chat|     web|       4|product_inquiry|              sizing|           0.72|                     10|                  5|       true|       false|  support_crm|2025-10-24 14:31:...|            2025|               10|\n",
      "|            13|      10010|  2025-10-22 11:45:50|      2025-10-22|           phone|   phone|       3|  order_inquiry|            tracking|           0.55|                     12|                  5|       true|       false|  support_crm|2025-10-24 14:31:...|            2025|               10|\n",
      "|            20|      10005|  2025-10-23 19:15:20|      2025-10-23|           email|   email|       4|      technical|       website_error|          -0.30|                    120|                  2|       true|       false|  support_crm|2025-10-24 14:31:...|            2025|               10|\n",
      "|            14|      10012|  2025-10-22 14:12:33|      2025-10-22|           email|   email|       1|      promotion|         coupon_code|           0.80|                     25|                  5|       true|       false|  support_crm|2025-10-24 14:31:...|            2025|               10|\n",
      "|             8|      10011|  2025-10-20 16:25:45|      2025-10-20|            chat|     web|       3|    order_issue|          wrong_item|           0.15|                     60|                  3|       true|       false|  support_crm|2025-10-24 14:31:...|            2025|               10|\n",
      "+--------------+-----------+---------------------+----------------+----------------+--------+--------+---------------+--------------------+---------------+-----------------------+-------------------+-----------+------------+-------------+--------------------+----------------+-----------------+\n",
      "\n"
     ]
    }
   ],
   "execution_count": 3
  },
  {
   "metadata": {
    "ExecuteTime": {
     "end_time": "2025-10-24T14:55:12.865846Z",
     "start_time": "2025-10-24T14:55:12.799929Z"
    }
   },
   "cell_type": "code",
   "source": "spark.sql('show tables in gold').show(truncate=False)",
   "id": "c77a0293af8949b5",
   "outputs": [
    {
     "name": "stdout",
     "output_type": "stream",
     "text": [
      "+---------+--------------------------+-----------+\n",
      "|namespace|tableName                 |isTemporary|\n",
      "+---------+--------------------------+-----------+\n",
      "|gold     |basket_analysis           |false      |\n",
      "|gold     |campaign_roi_analysis     |false      |\n",
      "|gold     |category_brand_performance|false      |\n",
      "|gold     |channel_attribution       |false      |\n",
      "|gold     |cohort_analysis           |false      |\n",
      "|gold     |customer_360              |false      |\n",
      "|gold     |product_performance       |false      |\n",
      "|gold     |store_performance         |false      |\n",
      "|gold     |subscription_health       |false      |\n",
      "+---------+--------------------------+-----------+\n",
      "\n"
     ]
    }
   ],
   "execution_count": 5
  },
  {
   "metadata": {
    "ExecuteTime": {
     "end_time": "2025-10-24T15:54:24.197235Z",
     "start_time": "2025-10-24T15:54:16.622882Z"
    }
   },
   "cell_type": "code",
   "source": [
    "gold_tables = [\n",
    "'basket_analysis',\n",
    "'campaign_roi_analysis',\n",
    "'category_brand_performance',\n",
    "'channel_attribution',\n",
    "'cohort_analysis',\n",
    "'customer_360',\n",
    "'product_performance',\n",
    "'store_performance',\n",
    "'subscription_health',\n",
    "]\n",
    "load_and_show('gold', gold_tables)"
   ],
   "id": "150d3f7a1d6462ae",
   "outputs": [
    {
     "name": "stderr",
     "output_type": "stream",
     "text": [
      "25/10/24 15:54:16 WARN MetricsConfig: Cannot locate configuration: tried hadoop-metrics2-s3a-file-system.properties,hadoop-metrics2.properties\n",
      "                                                                                \r"
     ]
    },
    {
     "name": "stdout",
     "output_type": "stream",
     "text": [
      "+--------------------------+---+\n",
      "|tt                        |cnt|\n",
      "+--------------------------+---+\n",
      "|basket_analysis           |5  |\n",
      "|campaign_roi_analysis     |10 |\n",
      "|category_brand_performance|20 |\n",
      "|channel_attribution       |20 |\n",
      "|cohort_analysis           |1  |\n",
      "|customer_360              |16 |\n",
      "|product_performance       |20 |\n",
      "|store_performance         |1  |\n",
      "|subscription_health       |3  |\n",
      "+--------------------------+---+\n",
      "\n"
     ]
    }
   ],
   "execution_count": 4
  },
  {
   "metadata": {},
   "cell_type": "code",
   "outputs": [],
   "execution_count": null,
   "source": "",
   "id": "dac652b6a91aeab4"
  }
 ],
 "metadata": {
  "kernelspec": {
   "display_name": "Python 3",
   "language": "python",
   "name": "python3"
  },
  "language_info": {
   "codemirror_mode": {
    "name": "ipython",
    "version": 2
   },
   "file_extension": ".py",
   "mimetype": "text/x-python",
   "name": "python",
   "nbconvert_exporter": "python",
   "pygments_lexer": "ipython2",
   "version": "2.7.6"
  }
 },
 "nbformat": 4,
 "nbformat_minor": 5
}
