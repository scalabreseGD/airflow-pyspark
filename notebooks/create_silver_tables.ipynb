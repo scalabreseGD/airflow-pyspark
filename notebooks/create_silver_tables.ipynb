{
 "cells": [
  {
   "metadata": {},
   "cell_type": "markdown",
   "source": [
    "-- ============================================================================\n",
    "# SILVER LAYER - Cleaned and Enriched Data\n",
    "-- ============================================================================"
   ],
   "id": "ad3ff61cb570d809"
  },
  {
   "metadata": {
    "ExecuteTime": {
     "end_time": "2025-10-28T08:31:29.649473Z",
     "start_time": "2025-10-28T08:31:27.247670Z"
    }
   },
   "cell_type": "code",
   "source": [
    "spark.sql(\"CREATE DATABASE IF NOT EXISTS silver\")\n",
    "spark.sql(\"SHOW DATABASES\").show()"
   ],
   "id": "78378451ff5d22ea",
   "outputs": [
    {
     "name": "stderr",
     "output_type": "stream",
     "text": [
      "25/10/28 08:31:27 WARN MetricsConfig: Cannot locate configuration: tried hadoop-metrics2-s3a-file-system.properties,hadoop-metrics2.properties\n"
     ]
    },
    {
     "name": "stdout",
     "output_type": "stream",
     "text": [
      "+---------+\n",
      "|namespace|\n",
      "+---------+\n",
      "|   bronze|\n",
      "|  default|\n",
      "|     gold|\n",
      "|   silver|\n",
      "+---------+\n",
      "\n"
     ]
    }
   ],
   "execution_count": 1
  },
  {
   "metadata": {
    "ExecuteTime": {
     "end_time": "2025-10-28T08:31:29.677664Z",
     "start_time": "2025-10-28T08:31:29.674116Z"
    }
   },
   "cell_type": "code",
   "source": [
    "def create_query_in_location(location, query):\n",
    "    query += f\"\\n LOCATION 's3a://data/silver/{location}'\"\n",
    "    spark.sql(query).show()"
   ],
   "id": "29e651203f68090b",
   "outputs": [],
   "execution_count": 2
  },
  {
   "cell_type": "code",
   "id": "initial_id",
   "metadata": {
    "collapsed": true,
    "ExecuteTime": {
     "end_time": "2025-10-28T08:31:30.221392Z",
     "start_time": "2025-10-28T08:31:29.691474Z"
    }
   },
   "source": [
    "transactions = \"\"\"\n",
    "CREATE TABLE IF NOT EXISTS silver.transactions (\n",
    "    transaction_id BIGINT NOT NULL,\n",
    "    customer_id BIGINT NOT NULL,\n",
    "    transaction_timestamp TIMESTAMP,\n",
    "    transaction_date DATE,\n",
    "    channel STRING,\n",
    "    store_id BIGINT,\n",
    "    payment_method STRING,\n",
    "    payment_status STRING,\n",
    "\n",
    "    -- Amounts\n",
    "    subtotal DECIMAL(12,2),\n",
    "    tax_amount DECIMAL(12,2),\n",
    "    shipping_cost DECIMAL(12,2),\n",
    "    discount_amount DECIMAL(12,2),\n",
    "    total_amount DECIMAL(12,2),\n",
    "    currency STRING,\n",
    "\n",
    "    -- Loyalty\n",
    "    loyalty_points_earned INT,\n",
    "    loyalty_points_redeemed INT,\n",
    "    coupon_codes ARRAY<STRING>,\n",
    "\n",
    "    -- Derived Fields\n",
    "    transaction_year INT,\n",
    "    transaction_month INT,\n",
    "    transaction_quarter INT,\n",
    "    transaction_day_of_week INT,\n",
    "    transaction_hour INT,\n",
    "    is_weekend BOOLEAN,\n",
    "    is_holiday BOOLEAN,\n",
    "    fiscal_year INT,\n",
    "    fiscal_quarter INT,\n",
    "\n",
    "    -- Business Flags\n",
    "    is_first_purchase BOOLEAN,\n",
    "    is_return_transaction BOOLEAN,\n",
    "    has_discount BOOLEAN,\n",
    "    has_coupon BOOLEAN,\n",
    "\n",
    "    -- Metadata\n",
    "    source_system STRING,\n",
    "    created_timestamp TIMESTAMP,\n",
    "    updated_timestamp TIMESTAMP\n",
    ")\n",
    "USING PARQUET\n",
    "PARTITIONED BY (transaction_year, transaction_month)\n",
    "\"\"\"\n",
    "create_query_in_location(query=transactions, location=\"transactions\")"
   ],
   "outputs": [
    {
     "name": "stderr",
     "output_type": "stream",
     "text": [
      "25/10/28 08:31:29 WARN SessionState: METASTORE_FILTER_HOOK will be ignored, since hive.security.authorization.manager is set to instance of HiveAuthorizerFactory.\n"
     ]
    },
    {
     "name": "stdout",
     "output_type": "stream",
     "text": [
      "++\n",
      "||\n",
      "++\n",
      "++\n",
      "\n"
     ]
    }
   ],
   "execution_count": 3
  },
  {
   "metadata": {
    "ExecuteTime": {
     "end_time": "2025-10-28T08:31:30.370825Z",
     "start_time": "2025-10-28T08:31:30.239158Z"
    }
   },
   "cell_type": "code",
   "source": [
    "transaction_items = \"\"\"\n",
    "CREATE TABLE IF NOT EXISTS silver.transaction_items (\n",
    "    transaction_item_id BIGINT NOT NULL,\n",
    "    transaction_id BIGINT NOT NULL,\n",
    "    product_id BIGINT NOT NULL,\n",
    "    variant_id BIGINT,\n",
    "\n",
    "    -- Quantities\n",
    "    quantity INT,\n",
    "    return_quantity INT,\n",
    "    net_quantity INT,\n",
    "\n",
    "    -- Amounts\n",
    "    unit_price DECIMAL(10,2),\n",
    "    unit_cost DECIMAL(10,2),\n",
    "    discount_percentage DECIMAL(5,2),\n",
    "    tax_rate DECIMAL(5,4),\n",
    "    line_subtotal DECIMAL(12,2),\n",
    "    line_discount DECIMAL(12,2),\n",
    "    line_tax DECIMAL(12,2),\n",
    "    line_total DECIMAL(12,2),\n",
    "    line_cost DECIMAL(12,2),\n",
    "    line_profit DECIMAL(12,2),\n",
    "    line_margin_percentage DECIMAL(5,2),\n",
    "\n",
    "    -- Fulfillment\n",
    "    return_reason STRING,\n",
    "    fulfillment_status STRING,\n",
    "    warehouse_id BIGINT,\n",
    "\n",
    "    -- Metadata\n",
    "    source_system STRING,\n",
    "    created_timestamp TIMESTAMP,\n",
    "    updated_timestamp TIMESTAMP\n",
    ")\n",
    "USING PARQUET\n",
    "PARTITIONED BY (transaction_id)\n",
    "\"\"\"\n",
    "create_query_in_location(query=transaction_items, location=\"transaction_items\")"
   ],
   "id": "3bed4be955d80aca",
   "outputs": [
    {
     "name": "stdout",
     "output_type": "stream",
     "text": [
      "++\n",
      "||\n",
      "++\n",
      "++\n",
      "\n"
     ]
    }
   ],
   "execution_count": 4
  },
  {
   "metadata": {
    "ExecuteTime": {
     "end_time": "2025-10-28T08:31:30.507582Z",
     "start_time": "2025-10-28T08:31:30.406086Z"
    }
   },
   "cell_type": "code",
   "source": [
    "subscriptions = \"\"\"\n",
    "-- Silver: Subscriptions\n",
    "CREATE TABLE IF NOT EXISTS silver.subscriptions (\n",
    "    subscription_id BIGINT NOT NULL,\n",
    "    customer_id BIGINT NOT NULL,\n",
    "    subscription_type STRING,\n",
    "    plan_id BIGINT,\n",
    "\n",
    "    -- Dates\n",
    "    start_date DATE,\n",
    "    end_date DATE,\n",
    "    cancellation_date DATE,\n",
    "    next_billing_date DATE,\n",
    "\n",
    "    -- Status\n",
    "    status STRING,\n",
    "    billing_frequency STRING,\n",
    "    auto_renewal BOOLEAN,\n",
    "    cancellation_reason STRING,\n",
    "\n",
    "    -- Amounts\n",
    "    subscription_amount DECIMAL(10,2),\n",
    "\n",
    "    -- Calculated Metrics\n",
    "    subscription_duration_days INT,\n",
    "    total_payments_made INT,\n",
    "    lifetime_value DECIMAL(12,2),\n",
    "\n",
    "    -- Churn Analysis\n",
    "    is_churned BOOLEAN,\n",
    "    churn_risk_score DECIMAL(3,2),\n",
    "\n",
    "    -- SCD Type 2\n",
    "    effective_start_date TIMESTAMP,\n",
    "    effective_end_date TIMESTAMP,\n",
    "    is_current BOOLEAN,\n",
    "\n",
    "    -- Metadata\n",
    "    source_system STRING,\n",
    "    created_timestamp TIMESTAMP,\n",
    "    updated_timestamp TIMESTAMP\n",
    ")\n",
    "USING PARQUET\n",
    "PARTITIONED BY (status, is_current)\"\"\"\n",
    "create_query_in_location(query=subscriptions,location=\"subscriptions\")"
   ],
   "id": "58dfddbc3224e01c",
   "outputs": [
    {
     "name": "stdout",
     "output_type": "stream",
     "text": [
      "++\n",
      "||\n",
      "++\n",
      "++\n",
      "\n"
     ]
    }
   ],
   "execution_count": 5
  },
  {
   "metadata": {
    "ExecuteTime": {
     "end_time": "2025-10-28T08:31:30.748441Z",
     "start_time": "2025-10-28T08:31:30.523272Z"
    }
   },
   "cell_type": "code",
   "source": [
    "customer_interactions = \"\"\"\n",
    "CREATE TABLE IF NOT EXISTS silver.customer_interactions (\n",
    "    interaction_id BIGINT NOT NULL,\n",
    "    customer_id BIGINT NOT NULL,\n",
    "    interaction_timestamp TIMESTAMP,\n",
    "    interaction_date DATE,\n",
    "    interaction_type STRING,\n",
    "    channel STRING,\n",
    "    agent_id BIGINT,\n",
    "\n",
    "    -- Classification\n",
    "    category STRING,\n",
    "    subcategory STRING,\n",
    "\n",
    "    -- Metrics\n",
    "    sentiment_score DECIMAL(3,2),\n",
    "    resolution_time_minutes INT,\n",
    "    satisfaction_rating INT,\n",
    "\n",
    "    -- Derived Fields\n",
    "    interaction_year INT,\n",
    "    interaction_month INT,\n",
    "    is_resolved BOOLEAN,\n",
    "    is_escalated BOOLEAN,\n",
    "\n",
    "    -- Metadata\n",
    "    source_system STRING,\n",
    "    created_timestamp TIMESTAMP\n",
    ")\n",
    "USING PARQUET\n",
    "PARTITIONED BY (interaction_year, interaction_month)\n",
    "\"\"\"\n",
    "create_query_in_location(query=customer_interactions, location=\"customer_interactions\")"
   ],
   "id": "82bb21dfd2534b84",
   "outputs": [
    {
     "name": "stdout",
     "output_type": "stream",
     "text": [
      "++\n",
      "||\n",
      "++\n",
      "++\n",
      "\n"
     ]
    }
   ],
   "execution_count": 6
  },
  {
   "metadata": {
    "ExecuteTime": {
     "end_time": "2025-10-28T08:31:30.862637Z",
     "start_time": "2025-10-28T08:31:30.762487Z"
    }
   },
   "cell_type": "code",
   "source": [
    "product_catalog = \"\"\"\n",
    "CREATE TABLE IF NOT EXISTS silver.product_catalog (\n",
    "    product_id BIGINT NOT NULL,\n",
    "    product_name STRING,\n",
    "\n",
    "    -- Categories\n",
    "    category_level1 STRING,\n",
    "    category_level2 STRING,\n",
    "    category_level3 STRING,\n",
    "    full_category_path STRING,\n",
    "\n",
    "    -- Brand Info\n",
    "    brand STRING,\n",
    "    manufacturer STRING,\n",
    "\n",
    "    -- Pricing\n",
    "    unit_cost DECIMAL(10,2),\n",
    "    list_price DECIMAL(10,2),\n",
    "    margin_percentage DECIMAL(5,2),\n",
    "    price_tier STRING,\n",
    "\n",
    "    -- Supply Chain\n",
    "    supplier_id BIGINT,\n",
    "    lead_time_days INT,\n",
    "    weight_kg DECIMAL(8,3),\n",
    "\n",
    "    -- Product Lifecycle\n",
    "    launch_date DATE,\n",
    "    discontinuation_date DATE,\n",
    "    is_active BOOLEAN,\n",
    "    product_age_days INT,\n",
    "    lifecycle_stage STRING,  -- introduction, growth, maturity, decline\n",
    "\n",
    "    -- Tags and Attributes\n",
    "    tags ARRAY<STRING>,\n",
    "\n",
    "    -- SCD Type 2\n",
    "    effective_start_date TIMESTAMP,\n",
    "    effective_end_date TIMESTAMP,\n",
    "    is_current BOOLEAN,\n",
    "\n",
    "    -- Metadata\n",
    "    source_system STRING,\n",
    "    created_timestamp TIMESTAMP,\n",
    "    updated_timestamp TIMESTAMP\n",
    ")\n",
    "USING PARQUET\n",
    "PARTITIONED BY (category_level1, is_current)\n",
    "\"\"\"\n",
    "create_query_in_location(query=product_catalog, location=\"product_catalog\")"
   ],
   "id": "fa364edb739c7d29",
   "outputs": [
    {
     "name": "stdout",
     "output_type": "stream",
     "text": [
      "++\n",
      "||\n",
      "++\n",
      "++\n",
      "\n"
     ]
    }
   ],
   "execution_count": 7
  },
  {
   "metadata": {
    "ExecuteTime": {
     "end_time": "2025-10-28T08:31:30.982505Z",
     "start_time": "2025-10-28T08:31:30.878299Z"
    }
   },
   "cell_type": "code",
   "source": [
    "inventory_snapshots = \"\"\"\n",
    "CREATE TABLE IF NOT EXISTS silver.inventory_snapshots (\n",
    "    snapshot_id BIGINT NOT NULL,\n",
    "    snapshot_timestamp TIMESTAMP,\n",
    "    snapshot_date DATE,\n",
    "    product_id BIGINT NOT NULL,\n",
    "    variant_id BIGINT,\n",
    "    warehouse_id BIGINT NOT NULL,\n",
    "\n",
    "    -- Quantities\n",
    "    quantity_on_hand INT,\n",
    "    quantity_reserved INT,\n",
    "    quantity_available INT,\n",
    "    reorder_point INT,\n",
    "    reorder_quantity INT,\n",
    "\n",
    "    -- Calculated Metrics\n",
    "    days_of_supply INT,\n",
    "    stock_status STRING,  -- in_stock, low_stock, out_of_stock, overstock\n",
    "    is_stockout BOOLEAN,\n",
    "    stockout_duration_days INT,\n",
    "\n",
    "    -- Metadata\n",
    "    source_system STRING,\n",
    "    created_timestamp TIMESTAMP\n",
    ")\n",
    "USING PARQUET\n",
    "PARTITIONED BY (snapshot_date, warehouse_id)\n",
    "\"\"\"\n",
    "create_query_in_location(query=inventory_snapshots, location=\"inventory_snapshots\")"
   ],
   "id": "b2310a5c5c7abfda",
   "outputs": [
    {
     "name": "stdout",
     "output_type": "stream",
     "text": [
      "++\n",
      "||\n",
      "++\n",
      "++\n",
      "\n"
     ]
    }
   ],
   "execution_count": 8
  },
  {
   "metadata": {
    "ExecuteTime": {
     "end_time": "2025-10-28T08:31:31.118760Z",
     "start_time": "2025-10-28T08:31:31.002231Z"
    }
   },
   "cell_type": "code",
   "source": "spark.sql(\"SHOW TABLES IN silver\").show()",
   "id": "b9b284caa526bf1b",
   "outputs": [
    {
     "name": "stdout",
     "output_type": "stream",
     "text": [
      "+---------+--------------------+-----------+\n",
      "|namespace|           tableName|isTemporary|\n",
      "+---------+--------------------+-----------+\n",
      "|   silver|customer_interact...|      false|\n",
      "|   silver| inventory_snapshots|      false|\n",
      "|   silver|     product_catalog|      false|\n",
      "|   silver|       subscriptions|      false|\n",
      "|   silver|   transaction_items|      false|\n",
      "|   silver|        transactions|      false|\n",
      "+---------+--------------------+-----------+\n",
      "\n"
     ]
    }
   ],
   "execution_count": 9
  },
  {
   "metadata": {
    "ExecuteTime": {
     "end_time": "2025-10-28T08:31:31.154602Z",
     "start_time": "2025-10-28T08:31:31.152570Z"
    }
   },
   "cell_type": "code",
   "source": "",
   "id": "6b4c0f1cab454e08",
   "outputs": [],
   "execution_count": null
  }
 ],
 "metadata": {
  "kernelspec": {
   "display_name": "Python 3",
   "language": "python",
   "name": "python3"
  },
  "language_info": {
   "codemirror_mode": {
    "name": "ipython",
    "version": 2
   },
   "file_extension": ".py",
   "mimetype": "text/x-python",
   "name": "python",
   "nbconvert_exporter": "python",
   "pygments_lexer": "ipython2",
   "version": "2.7.6"
  }
 },
 "nbformat": 4,
 "nbformat_minor": 5
}
